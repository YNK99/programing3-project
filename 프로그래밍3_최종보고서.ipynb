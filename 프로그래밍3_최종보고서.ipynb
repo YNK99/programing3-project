{
 "cells": [
  {
   "cell_type": "markdown",
   "metadata": {},
   "source": [
    "1. 데이터에 대한 설명\n",
    "\n",
    "초콜릿바 등급에 관한 데이터를 분석했다.\n",
    "\n",
    "각 열에 대한 설명은 다음과 같다.\n",
    "\n",
    "Company \\n(Maker-if known): 초콜릿바를 제조한 회사\n",
    "\n",
    "Specific Bean Origin\\nor Bar Name: 초콜릿바의 원산지\n",
    "\n",
    "REF: 값이 작을수록 오래전에 리뷰가 등록된 것을 뜻함\n",
    "\n",
    "Review\\nDate: 리뷰 게시 연도\n",
    "\n",
    "Cocoa\\nPercent: 초콜릿바의 카카오 함량\n",
    "\n",
    "Company\\nLocation: 초콜릿바를 제조한 회사가 위치한 나라\n",
    "\n",
    "Rating: 초콜릿바 평가 등급(1~5까지 존재)\n",
    "        \n",
    "        1: 불쾌함\n",
    "        \n",
    "        2: 실망스러움\n",
    "        \n",
    "        3~4: 만족스러움~칭찬할만함\n",
    "        \n",
    "        4: 프리미엄\n",
    "        \n",
    "        5: 엘리트\n",
    "\n",
    "Bean\\nType: 사용된 콩의 품종\n",
    "\n",
    "Broad Bean\\nOrigin: 사용된 콩의 원산지"
   ]
  },
  {
   "cell_type": "markdown",
   "metadata": {},
   "source": [
    "2. 데이터 탐색 및 분석 포인트 설명\n",
    "\n",
    "2-1. 초콜릿바 등급 및 카카오 퍼센트의 분포 알아보기\n",
    "\n",
    "2-2. 연도별 가장 등급이 높은 초콜릿와 생산한 회사, 해당 회사의 위치\n",
    "\n",
    "2-3. 초콜릿을 많이 만드는 회사와 3점대 이상인 초콜릿바를 많이 만드는 회사가 비슷한가?\n",
    "\n",
    "2-4. 초콜릿을 많이 만드는 나라와 3점대 이상인 초콜릿바를 많이 만드는 나라가 비슷한가?\n",
    "\n",
    "2-5. 평점 3점대 이상인 초콜릿바의 콩 산지를 알아보기"
   ]
  },
  {
   "cell_type": "code",
   "execution_count": 1,
   "metadata": {},
   "outputs": [],
   "source": [
    "# 필요 라이브러리 불러오기\n",
    "import pandas as pd\n",
    "import numpy as np"
   ]
  },
  {
   "cell_type": "code",
   "execution_count": 2,
   "metadata": {},
   "outputs": [
    {
     "data": {
      "text/html": [
       "<div>\n",
       "<style scoped>\n",
       "    .dataframe tbody tr th:only-of-type {\n",
       "        vertical-align: middle;\n",
       "    }\n",
       "\n",
       "    .dataframe tbody tr th {\n",
       "        vertical-align: top;\n",
       "    }\n",
       "\n",
       "    .dataframe thead th {\n",
       "        text-align: right;\n",
       "    }\n",
       "</style>\n",
       "<table border=\"1\" class=\"dataframe\">\n",
       "  <thead>\n",
       "    <tr style=\"text-align: right;\">\n",
       "      <th></th>\n",
       "      <th>Company \\n(Maker-if known)</th>\n",
       "      <th>Specific Bean Origin\\nor Bar Name</th>\n",
       "      <th>REF</th>\n",
       "      <th>Review\\nDate</th>\n",
       "      <th>Cocoa\\nPercent</th>\n",
       "      <th>Company\\nLocation</th>\n",
       "      <th>Rating</th>\n",
       "      <th>Bean\\nType</th>\n",
       "      <th>Broad Bean\\nOrigin</th>\n",
       "    </tr>\n",
       "  </thead>\n",
       "  <tbody>\n",
       "    <tr>\n",
       "      <th>0</th>\n",
       "      <td>A. Morin</td>\n",
       "      <td>Agua Grande</td>\n",
       "      <td>1876</td>\n",
       "      <td>2016</td>\n",
       "      <td>63%</td>\n",
       "      <td>France</td>\n",
       "      <td>3.75</td>\n",
       "      <td></td>\n",
       "      <td>Sao Tome</td>\n",
       "    </tr>\n",
       "    <tr>\n",
       "      <th>1</th>\n",
       "      <td>A. Morin</td>\n",
       "      <td>Kpime</td>\n",
       "      <td>1676</td>\n",
       "      <td>2015</td>\n",
       "      <td>70%</td>\n",
       "      <td>France</td>\n",
       "      <td>2.75</td>\n",
       "      <td></td>\n",
       "      <td>Togo</td>\n",
       "    </tr>\n",
       "    <tr>\n",
       "      <th>2</th>\n",
       "      <td>A. Morin</td>\n",
       "      <td>Atsane</td>\n",
       "      <td>1676</td>\n",
       "      <td>2015</td>\n",
       "      <td>70%</td>\n",
       "      <td>France</td>\n",
       "      <td>3.00</td>\n",
       "      <td></td>\n",
       "      <td>Togo</td>\n",
       "    </tr>\n",
       "    <tr>\n",
       "      <th>3</th>\n",
       "      <td>A. Morin</td>\n",
       "      <td>Akata</td>\n",
       "      <td>1680</td>\n",
       "      <td>2015</td>\n",
       "      <td>70%</td>\n",
       "      <td>France</td>\n",
       "      <td>3.50</td>\n",
       "      <td></td>\n",
       "      <td>Togo</td>\n",
       "    </tr>\n",
       "    <tr>\n",
       "      <th>4</th>\n",
       "      <td>A. Morin</td>\n",
       "      <td>Quilla</td>\n",
       "      <td>1704</td>\n",
       "      <td>2015</td>\n",
       "      <td>70%</td>\n",
       "      <td>France</td>\n",
       "      <td>3.50</td>\n",
       "      <td></td>\n",
       "      <td>Peru</td>\n",
       "    </tr>\n",
       "  </tbody>\n",
       "</table>\n",
       "</div>"
      ],
      "text/plain": [
       "  Company \\n(Maker-if known) Specific Bean Origin\\nor Bar Name   REF  \\\n",
       "0                   A. Morin                       Agua Grande  1876   \n",
       "1                   A. Morin                             Kpime  1676   \n",
       "2                   A. Morin                            Atsane  1676   \n",
       "3                   A. Morin                             Akata  1680   \n",
       "4                   A. Morin                            Quilla  1704   \n",
       "\n",
       "   Review\\nDate Cocoa\\nPercent Company\\nLocation  Rating Bean\\nType  \\\n",
       "0          2016            63%            France    3.75              \n",
       "1          2015            70%            France    2.75              \n",
       "2          2015            70%            France    3.00              \n",
       "3          2015            70%            France    3.50              \n",
       "4          2015            70%            France    3.50              \n",
       "\n",
       "  Broad Bean\\nOrigin  \n",
       "0           Sao Tome  \n",
       "1               Togo  \n",
       "2               Togo  \n",
       "3               Togo  \n",
       "4               Peru  "
      ]
     },
     "execution_count": 2,
     "metadata": {},
     "output_type": "execute_result"
    }
   ],
   "source": [
    "# 데이터 불러오기\n",
    "cacao = pd.read_csv('data/data/flavors_of_cacao.csv')\n",
    "cacao.head()"
   ]
  },
  {
   "cell_type": "code",
   "execution_count": 3,
   "metadata": {},
   "outputs": [],
   "source": [
    "# 보기 쉽게 열 이름 바꿈\n",
    "cacao.columns = ['Company', 'Specific_Bean_Origin_or_Bar_Name', 'REF', 'Review_Date','Cocoa_Percent', 'Company_Location', 'Rating', 'Bean_Type', 'Broad_Bean_Origin']"
   ]
  },
  {
   "cell_type": "code",
   "execution_count": 4,
   "metadata": {},
   "outputs": [
    {
     "data": {
      "text/html": [
       "<div>\n",
       "<style scoped>\n",
       "    .dataframe tbody tr th:only-of-type {\n",
       "        vertical-align: middle;\n",
       "    }\n",
       "\n",
       "    .dataframe tbody tr th {\n",
       "        vertical-align: top;\n",
       "    }\n",
       "\n",
       "    .dataframe thead th {\n",
       "        text-align: right;\n",
       "    }\n",
       "</style>\n",
       "<table border=\"1\" class=\"dataframe\">\n",
       "  <thead>\n",
       "    <tr style=\"text-align: right;\">\n",
       "      <th></th>\n",
       "      <th>Company</th>\n",
       "      <th>Specific_Bean_Origin_or_Bar_Name</th>\n",
       "      <th>REF</th>\n",
       "      <th>Review_Date</th>\n",
       "      <th>Cocoa_Percent</th>\n",
       "      <th>Company_Location</th>\n",
       "      <th>Rating</th>\n",
       "      <th>Bean_Type</th>\n",
       "      <th>Broad_Bean_Origin</th>\n",
       "    </tr>\n",
       "  </thead>\n",
       "  <tbody>\n",
       "    <tr>\n",
       "      <th>0</th>\n",
       "      <td>A. Morin</td>\n",
       "      <td>Agua Grande</td>\n",
       "      <td>1876</td>\n",
       "      <td>2016</td>\n",
       "      <td>63%</td>\n",
       "      <td>France</td>\n",
       "      <td>3.75</td>\n",
       "      <td></td>\n",
       "      <td>Sao Tome</td>\n",
       "    </tr>\n",
       "    <tr>\n",
       "      <th>1</th>\n",
       "      <td>A. Morin</td>\n",
       "      <td>Kpime</td>\n",
       "      <td>1676</td>\n",
       "      <td>2015</td>\n",
       "      <td>70%</td>\n",
       "      <td>France</td>\n",
       "      <td>2.75</td>\n",
       "      <td></td>\n",
       "      <td>Togo</td>\n",
       "    </tr>\n",
       "    <tr>\n",
       "      <th>2</th>\n",
       "      <td>A. Morin</td>\n",
       "      <td>Atsane</td>\n",
       "      <td>1676</td>\n",
       "      <td>2015</td>\n",
       "      <td>70%</td>\n",
       "      <td>France</td>\n",
       "      <td>3.00</td>\n",
       "      <td></td>\n",
       "      <td>Togo</td>\n",
       "    </tr>\n",
       "    <tr>\n",
       "      <th>3</th>\n",
       "      <td>A. Morin</td>\n",
       "      <td>Akata</td>\n",
       "      <td>1680</td>\n",
       "      <td>2015</td>\n",
       "      <td>70%</td>\n",
       "      <td>France</td>\n",
       "      <td>3.50</td>\n",
       "      <td></td>\n",
       "      <td>Togo</td>\n",
       "    </tr>\n",
       "    <tr>\n",
       "      <th>4</th>\n",
       "      <td>A. Morin</td>\n",
       "      <td>Quilla</td>\n",
       "      <td>1704</td>\n",
       "      <td>2015</td>\n",
       "      <td>70%</td>\n",
       "      <td>France</td>\n",
       "      <td>3.50</td>\n",
       "      <td></td>\n",
       "      <td>Peru</td>\n",
       "    </tr>\n",
       "  </tbody>\n",
       "</table>\n",
       "</div>"
      ],
      "text/plain": [
       "    Company Specific_Bean_Origin_or_Bar_Name   REF  Review_Date Cocoa_Percent  \\\n",
       "0  A. Morin                      Agua Grande  1876         2016           63%   \n",
       "1  A. Morin                            Kpime  1676         2015           70%   \n",
       "2  A. Morin                           Atsane  1676         2015           70%   \n",
       "3  A. Morin                            Akata  1680         2015           70%   \n",
       "4  A. Morin                           Quilla  1704         2015           70%   \n",
       "\n",
       "  Company_Location  Rating Bean_Type Broad_Bean_Origin  \n",
       "0           France    3.75                    Sao Tome  \n",
       "1           France    2.75                        Togo  \n",
       "2           France    3.00                        Togo  \n",
       "3           France    3.50                        Togo  \n",
       "4           France    3.50                        Peru  "
      ]
     },
     "execution_count": 4,
     "metadata": {},
     "output_type": "execute_result"
    }
   ],
   "source": [
    "cacao.head()"
   ]
  },
  {
   "cell_type": "raw",
   "metadata": {},
   "source": [
    "3. 데이터 분석 (전처리 및 정제, 시각화 등을 활용)"
   ]
  },
  {
   "cell_type": "code",
   "execution_count": 5,
   "metadata": {},
   "outputs": [
    {
     "name": "stdout",
     "output_type": "stream",
     "text": [
      "<class 'pandas.core.frame.DataFrame'>\n",
      "RangeIndex: 1795 entries, 0 to 1794\n",
      "Data columns (total 9 columns):\n",
      " #   Column                            Non-Null Count  Dtype  \n",
      "---  ------                            --------------  -----  \n",
      " 0   Company                           1795 non-null   object \n",
      " 1   Specific_Bean_Origin_or_Bar_Name  1795 non-null   object \n",
      " 2   REF                               1795 non-null   int64  \n",
      " 3   Review_Date                       1795 non-null   int64  \n",
      " 4   Cocoa_Percent                     1795 non-null   object \n",
      " 5   Company_Location                  1795 non-null   object \n",
      " 6   Rating                            1795 non-null   float64\n",
      " 7   Bean_Type                         1794 non-null   object \n",
      " 8   Broad_Bean_Origin                 1794 non-null   object \n",
      "dtypes: float64(1), int64(2), object(6)\n",
      "memory usage: 126.3+ KB\n"
     ]
    }
   ],
   "source": [
    "cacao.info()"
   ]
  },
  {
   "cell_type": "code",
   "execution_count": 6,
   "metadata": {},
   "outputs": [],
   "source": [
    "# 카카오 퍼센트에서 % 기호 빼고 데이터 타입 float으로 변환\n",
    "\n",
    "cacao.Cocoa_Percent = (\n",
    "    cacao.Cocoa_Percent\n",
    "    .str.replace('%', '')\n",
    "    .astype(float)\n",
    ")"
   ]
  },
  {
   "cell_type": "code",
   "execution_count": 7,
   "metadata": {},
   "outputs": [
    {
     "name": "stdout",
     "output_type": "stream",
     "text": [
      "Company                              object\n",
      "Specific_Bean_Origin_or_Bar_Name     object\n",
      "REF                                   int16\n",
      "Review_Date                           int16\n",
      "Cocoa_Percent                       float16\n",
      "Company_Location                     object\n",
      "Rating                              float16\n",
      "Bean_Type                            object\n",
      "Broad_Bean_Origin                    object\n",
      "dtype: object\n"
     ]
    }
   ],
   "source": [
    "# 메모리 사용을 줄이기 위해서 데이터 타입 변환\n",
    "# 오브젝트는 나중에 그래프를 그리기 위해 카테고리형으로 변환하지 않음\n",
    "\n",
    "cacao = cacao.astype({\n",
    "    'REF': np.int16,\n",
    "    'Review_Date': np.int16,\n",
    "    'Cocoa_Percent': np.float16,\n",
    "    'Rating': np.float16\n",
    "})\n",
    "print(cacao.dtypes)"
   ]
  },
  {
   "cell_type": "code",
   "execution_count": 8,
   "metadata": {},
   "outputs": [
    {
     "name": "stdout",
     "output_type": "stream",
     "text": [
      "<class 'pandas.core.frame.DataFrame'>\n",
      "RangeIndex: 1795 entries, 0 to 1794\n",
      "Data columns (total 9 columns):\n",
      " #   Column                            Non-Null Count  Dtype  \n",
      "---  ------                            --------------  -----  \n",
      " 0   Company                           1795 non-null   object \n",
      " 1   Specific_Bean_Origin_or_Bar_Name  1795 non-null   object \n",
      " 2   REF                               1795 non-null   int16  \n",
      " 3   Review_Date                       1795 non-null   int16  \n",
      " 4   Cocoa_Percent                     1795 non-null   float16\n",
      " 5   Company_Location                  1795 non-null   object \n",
      " 6   Rating                            1795 non-null   float16\n",
      " 7   Bean_Type                         1794 non-null   object \n",
      " 8   Broad_Bean_Origin                 1794 non-null   object \n",
      "dtypes: float16(2), int16(2), object(5)\n",
      "memory usage: 84.3+ KB\n"
     ]
    }
   ],
   "source": [
    "cacao.info()"
   ]
  },
  {
   "cell_type": "code",
   "execution_count": 9,
   "metadata": {},
   "outputs": [
    {
     "data": {
      "text/html": [
       "<div>\n",
       "<style scoped>\n",
       "    .dataframe tbody tr th:only-of-type {\n",
       "        vertical-align: middle;\n",
       "    }\n",
       "\n",
       "    .dataframe tbody tr th {\n",
       "        vertical-align: top;\n",
       "    }\n",
       "\n",
       "    .dataframe thead th {\n",
       "        text-align: right;\n",
       "    }\n",
       "</style>\n",
       "<table border=\"1\" class=\"dataframe\">\n",
       "  <thead>\n",
       "    <tr style=\"text-align: right;\">\n",
       "      <th></th>\n",
       "      <th>count</th>\n",
       "      <th>mean</th>\n",
       "      <th>std</th>\n",
       "      <th>min</th>\n",
       "      <th>25%</th>\n",
       "      <th>50%</th>\n",
       "      <th>75%</th>\n",
       "      <th>max</th>\n",
       "    </tr>\n",
       "  </thead>\n",
       "  <tbody>\n",
       "    <tr>\n",
       "      <th>REF</th>\n",
       "      <td>1795.0</td>\n",
       "      <td>1035.904735</td>\n",
       "      <td>552.886365</td>\n",
       "      <td>5.0</td>\n",
       "      <td>576.000</td>\n",
       "      <td>1069.00</td>\n",
       "      <td>1502.0</td>\n",
       "      <td>1952.0</td>\n",
       "    </tr>\n",
       "    <tr>\n",
       "      <th>Review_Date</th>\n",
       "      <td>1795.0</td>\n",
       "      <td>2012.325348</td>\n",
       "      <td>2.927210</td>\n",
       "      <td>2006.0</td>\n",
       "      <td>2010.000</td>\n",
       "      <td>2013.00</td>\n",
       "      <td>2015.0</td>\n",
       "      <td>2017.0</td>\n",
       "    </tr>\n",
       "    <tr>\n",
       "      <th>Cocoa_Percent</th>\n",
       "      <td>1795.0</td>\n",
       "      <td>inf</td>\n",
       "      <td>6.320312</td>\n",
       "      <td>42.0</td>\n",
       "      <td>70.000</td>\n",
       "      <td>70.00</td>\n",
       "      <td>75.0</td>\n",
       "      <td>100.0</td>\n",
       "    </tr>\n",
       "    <tr>\n",
       "      <th>Rating</th>\n",
       "      <td>1795.0</td>\n",
       "      <td>3.187500</td>\n",
       "      <td>0.478027</td>\n",
       "      <td>1.0</td>\n",
       "      <td>2.875</td>\n",
       "      <td>3.25</td>\n",
       "      <td>3.5</td>\n",
       "      <td>5.0</td>\n",
       "    </tr>\n",
       "  </tbody>\n",
       "</table>\n",
       "</div>"
      ],
      "text/plain": [
       "                count         mean         std     min       25%      50%  \\\n",
       "REF            1795.0  1035.904735  552.886365     5.0   576.000  1069.00   \n",
       "Review_Date    1795.0  2012.325348    2.927210  2006.0  2010.000  2013.00   \n",
       "Cocoa_Percent  1795.0          inf    6.320312    42.0    70.000    70.00   \n",
       "Rating         1795.0     3.187500    0.478027     1.0     2.875     3.25   \n",
       "\n",
       "                  75%     max  \n",
       "REF            1502.0  1952.0  \n",
       "Review_Date    2015.0  2017.0  \n",
       "Cocoa_Percent    75.0   100.0  \n",
       "Rating            3.5     5.0  "
      ]
     },
     "execution_count": 9,
     "metadata": {},
     "output_type": "execute_result"
    }
   ],
   "source": [
    "# 기술통계\n",
    "cacao.describe().T"
   ]
  },
  {
   "cell_type": "code",
   "execution_count": 10,
   "metadata": {},
   "outputs": [
    {
     "data": {
      "text/plain": [
       "Company                             0\n",
       "Specific_Bean_Origin_or_Bar_Name    0\n",
       "REF                                 0\n",
       "Review_Date                         0\n",
       "Cocoa_Percent                       0\n",
       "Company_Location                    0\n",
       "Rating                              0\n",
       "Bean_Type                           1\n",
       "Broad_Bean_Origin                   1\n",
       "dtype: int64"
      ]
     },
     "execution_count": 10,
     "metadata": {},
     "output_type": "execute_result"
    }
   ],
   "source": [
    "# 결측치 확인\n",
    "cacao.isnull().sum()"
   ]
  },
  {
   "cell_type": "code",
   "execution_count": 11,
   "metadata": {},
   "outputs": [],
   "source": [
    "# 결측치 삭제\n",
    "cacao = cacao.dropna()"
   ]
  },
  {
   "cell_type": "code",
   "execution_count": 12,
   "metadata": {},
   "outputs": [
    {
     "data": {
      "text/plain": [
       "Company                             0\n",
       "Specific_Bean_Origin_or_Bar_Name    0\n",
       "REF                                 0\n",
       "Review_Date                         0\n",
       "Cocoa_Percent                       0\n",
       "Company_Location                    0\n",
       "Rating                              0\n",
       "Bean_Type                           0\n",
       "Broad_Bean_Origin                   0\n",
       "dtype: int64"
      ]
     },
     "execution_count": 12,
     "metadata": {},
     "output_type": "execute_result"
    }
   ],
   "source": [
    "cacao.isnull().sum()"
   ]
  },
  {
   "cell_type": "code",
   "execution_count": 13,
   "metadata": {},
   "outputs": [
    {
     "data": {
      "text/plain": [
       "     887\n",
       "dtype: int64"
      ]
     },
     "execution_count": 13,
     "metadata": {},
     "output_type": "execute_result"
    }
   ],
   "source": [
    "# 시작이 공백인 Bean_Type의 요소의 합. 즉 Bean_Type의 결측치가 887개임을 뜻함\n",
    "(\n",
    " cacao.Bean_Type.str.extract(r'^(\\s)')\n",
    " .value_counts()\n",
    ")"
   ]
  },
  {
   "cell_type": "code",
   "execution_count": 14,
   "metadata": {},
   "outputs": [
    {
     "name": "stdout",
     "output_type": "stream",
     "text": [
      "<class 'pandas.core.frame.DataFrame'>\n",
      "Int64Index: 1793 entries, 0 to 1794\n",
      "Data columns (total 8 columns):\n",
      " #   Column                            Non-Null Count  Dtype  \n",
      "---  ------                            --------------  -----  \n",
      " 0   Company                           1793 non-null   object \n",
      " 1   Specific_Bean_Origin_or_Bar_Name  1793 non-null   object \n",
      " 2   REF                               1793 non-null   int16  \n",
      " 3   Review_Date                       1793 non-null   int16  \n",
      " 4   Cocoa_Percent                     1793 non-null   float16\n",
      " 5   Company_Location                  1793 non-null   object \n",
      " 6   Rating                            1793 non-null   float16\n",
      " 7   Broad_Bean_Origin                 1793 non-null   object \n",
      "dtypes: float16(2), int16(2), object(4)\n",
      "memory usage: 84.0+ KB\n"
     ]
    }
   ],
   "source": [
    "# 숫자 형태면 fillna로 0이나 평균값으로 채워넣을 수 있으나 오브젝트형이므로 열 자체 삭제 결정\n",
    "cacao = cacao.drop(columns = 'Bean_Type')\n",
    "cacao.info()"
   ]
  },
  {
   "cell_type": "code",
   "execution_count": 15,
   "metadata": {},
   "outputs": [
    {
     "data": {
      "text/plain": [
       "     73\n",
       "dtype: int64"
      ]
     },
     "execution_count": 15,
     "metadata": {},
     "output_type": "execute_result"
    }
   ],
   "source": [
    "# 시작이 공백인 Broad_Bean_Origin의 요소의 합. 즉 실제 결측치는 73개\n",
    "# 개수가 많지 않으니 결측치가 들어있는 해당 행 삭제\n",
    "(\n",
    " cacao.Broad_Bean_Origin.str.extract(r'^(\\s)')\n",
    " .value_counts()\n",
    ")"
   ]
  },
  {
   "cell_type": "code",
   "execution_count": 16,
   "metadata": {},
   "outputs": [
    {
     "data": {
      "text/html": [
       "<div>\n",
       "<style scoped>\n",
       "    .dataframe tbody tr th:only-of-type {\n",
       "        vertical-align: middle;\n",
       "    }\n",
       "\n",
       "    .dataframe tbody tr th {\n",
       "        vertical-align: top;\n",
       "    }\n",
       "\n",
       "    .dataframe thead th {\n",
       "        text-align: right;\n",
       "    }\n",
       "</style>\n",
       "<table border=\"1\" class=\"dataframe\">\n",
       "  <thead>\n",
       "    <tr style=\"text-align: right;\">\n",
       "      <th></th>\n",
       "      <th>Company</th>\n",
       "      <th>Specific_Bean_Origin_or_Bar_Name</th>\n",
       "      <th>REF</th>\n",
       "      <th>Review_Date</th>\n",
       "      <th>Cocoa_Percent</th>\n",
       "      <th>Company_Location</th>\n",
       "      <th>Rating</th>\n",
       "      <th>Broad_Bean_Origin</th>\n",
       "    </tr>\n",
       "  </thead>\n",
       "  <tbody>\n",
       "    <tr>\n",
       "      <th>0</th>\n",
       "      <td>A. Morin</td>\n",
       "      <td>Agua Grande</td>\n",
       "      <td>1876</td>\n",
       "      <td>2016</td>\n",
       "      <td>63.0</td>\n",
       "      <td>France</td>\n",
       "      <td>3.75</td>\n",
       "      <td>Sao Tome</td>\n",
       "    </tr>\n",
       "    <tr>\n",
       "      <th>1</th>\n",
       "      <td>A. Morin</td>\n",
       "      <td>Kpime</td>\n",
       "      <td>1676</td>\n",
       "      <td>2015</td>\n",
       "      <td>70.0</td>\n",
       "      <td>France</td>\n",
       "      <td>2.75</td>\n",
       "      <td>Togo</td>\n",
       "    </tr>\n",
       "    <tr>\n",
       "      <th>2</th>\n",
       "      <td>A. Morin</td>\n",
       "      <td>Atsane</td>\n",
       "      <td>1676</td>\n",
       "      <td>2015</td>\n",
       "      <td>70.0</td>\n",
       "      <td>France</td>\n",
       "      <td>3.00</td>\n",
       "      <td>Togo</td>\n",
       "    </tr>\n",
       "    <tr>\n",
       "      <th>3</th>\n",
       "      <td>A. Morin</td>\n",
       "      <td>Akata</td>\n",
       "      <td>1680</td>\n",
       "      <td>2015</td>\n",
       "      <td>70.0</td>\n",
       "      <td>France</td>\n",
       "      <td>3.50</td>\n",
       "      <td>Togo</td>\n",
       "    </tr>\n",
       "    <tr>\n",
       "      <th>4</th>\n",
       "      <td>A. Morin</td>\n",
       "      <td>Quilla</td>\n",
       "      <td>1704</td>\n",
       "      <td>2015</td>\n",
       "      <td>70.0</td>\n",
       "      <td>France</td>\n",
       "      <td>3.50</td>\n",
       "      <td>Peru</td>\n",
       "    </tr>\n",
       "    <tr>\n",
       "      <th>...</th>\n",
       "      <td>...</td>\n",
       "      <td>...</td>\n",
       "      <td>...</td>\n",
       "      <td>...</td>\n",
       "      <td>...</td>\n",
       "      <td>...</td>\n",
       "      <td>...</td>\n",
       "      <td>...</td>\n",
       "    </tr>\n",
       "    <tr>\n",
       "      <th>1790</th>\n",
       "      <td>Zotter</td>\n",
       "      <td>Peru</td>\n",
       "      <td>647</td>\n",
       "      <td>2011</td>\n",
       "      <td>70.0</td>\n",
       "      <td>Austria</td>\n",
       "      <td>3.75</td>\n",
       "      <td>Peru</td>\n",
       "    </tr>\n",
       "    <tr>\n",
       "      <th>1791</th>\n",
       "      <td>Zotter</td>\n",
       "      <td>Congo</td>\n",
       "      <td>749</td>\n",
       "      <td>2011</td>\n",
       "      <td>65.0</td>\n",
       "      <td>Austria</td>\n",
       "      <td>3.00</td>\n",
       "      <td>Congo</td>\n",
       "    </tr>\n",
       "    <tr>\n",
       "      <th>1792</th>\n",
       "      <td>Zotter</td>\n",
       "      <td>Kerala State</td>\n",
       "      <td>749</td>\n",
       "      <td>2011</td>\n",
       "      <td>65.0</td>\n",
       "      <td>Austria</td>\n",
       "      <td>3.50</td>\n",
       "      <td>India</td>\n",
       "    </tr>\n",
       "    <tr>\n",
       "      <th>1793</th>\n",
       "      <td>Zotter</td>\n",
       "      <td>Kerala State</td>\n",
       "      <td>781</td>\n",
       "      <td>2011</td>\n",
       "      <td>62.0</td>\n",
       "      <td>Austria</td>\n",
       "      <td>3.25</td>\n",
       "      <td>India</td>\n",
       "    </tr>\n",
       "    <tr>\n",
       "      <th>1794</th>\n",
       "      <td>Zotter</td>\n",
       "      <td>Brazil, Mitzi Blue</td>\n",
       "      <td>486</td>\n",
       "      <td>2010</td>\n",
       "      <td>65.0</td>\n",
       "      <td>Austria</td>\n",
       "      <td>3.00</td>\n",
       "      <td>Brazil</td>\n",
       "    </tr>\n",
       "  </tbody>\n",
       "</table>\n",
       "<p>1720 rows × 8 columns</p>\n",
       "</div>"
      ],
      "text/plain": [
       "       Company Specific_Bean_Origin_or_Bar_Name   REF  Review_Date  \\\n",
       "0     A. Morin                      Agua Grande  1876         2016   \n",
       "1     A. Morin                            Kpime  1676         2015   \n",
       "2     A. Morin                           Atsane  1676         2015   \n",
       "3     A. Morin                            Akata  1680         2015   \n",
       "4     A. Morin                           Quilla  1704         2015   \n",
       "...        ...                              ...   ...          ...   \n",
       "1790    Zotter                             Peru   647         2011   \n",
       "1791    Zotter                            Congo   749         2011   \n",
       "1792    Zotter                     Kerala State   749         2011   \n",
       "1793    Zotter                     Kerala State   781         2011   \n",
       "1794    Zotter               Brazil, Mitzi Blue   486         2010   \n",
       "\n",
       "      Cocoa_Percent Company_Location  Rating Broad_Bean_Origin  \n",
       "0              63.0           France    3.75          Sao Tome  \n",
       "1              70.0           France    2.75              Togo  \n",
       "2              70.0           France    3.00              Togo  \n",
       "3              70.0           France    3.50              Togo  \n",
       "4              70.0           France    3.50              Peru  \n",
       "...             ...              ...     ...               ...  \n",
       "1790           70.0          Austria    3.75              Peru  \n",
       "1791           65.0          Austria    3.00             Congo  \n",
       "1792           65.0          Austria    3.50             India  \n",
       "1793           62.0          Austria    3.25             India  \n",
       "1794           65.0          Austria    3.00            Brazil  \n",
       "\n",
       "[1720 rows x 8 columns]"
      ]
     },
     "execution_count": 16,
     "metadata": {},
     "output_type": "execute_result"
    }
   ],
   "source": [
    "# Broad_Bean_Origin 컬럼 결측치 제거\n",
    "cacao['Broad_Bean_Origin_TF'] = cacao.Broad_Bean_Origin.str.extract(r'^(\\s)').isna()\n",
    "cacao = cacao[cacao['Broad_Bean_Origin_TF']]\n",
    "cacao = cacao.drop(columns = 'Broad_Bean_Origin_TF')\n",
    "cacao"
   ]
  },
  {
   "cell_type": "code",
   "execution_count": 19,
   "metadata": {},
   "outputs": [
    {
     "data": {
      "text/plain": [
       "{'Africa, Carribean, C. Am.',\n",
       " 'Australia',\n",
       " 'Belize',\n",
       " 'Bolivia',\n",
       " 'Brazil',\n",
       " 'Burma',\n",
       " 'Cameroon',\n",
       " 'Carribean',\n",
       " 'Carribean(DR/Jam/Tri)',\n",
       " 'Central and S. America',\n",
       " 'Colombia',\n",
       " 'Colombia, Ecuador',\n",
       " 'Congo',\n",
       " 'Cost Rica, Ven',\n",
       " 'Costa Rica',\n",
       " 'Cuba',\n",
       " 'DR, Ecuador, Peru',\n",
       " 'Dom. Rep., Madagascar',\n",
       " 'Domincan Republic',\n",
       " 'Dominican Rep., Bali',\n",
       " 'Dominican Republic',\n",
       " 'Ecuador',\n",
       " 'Ecuador, Costa Rica',\n",
       " 'Ecuador, Mad., PNG',\n",
       " 'El Salvador',\n",
       " 'Fiji',\n",
       " 'Gabon',\n",
       " 'Ghana',\n",
       " 'Ghana & Madagascar',\n",
       " 'Ghana, Domin. Rep',\n",
       " 'Ghana, Panama, Ecuador',\n",
       " 'Gre., PNG, Haw., Haiti, Mad',\n",
       " 'Grenada',\n",
       " 'Guat., D.R., Peru, Mad., PNG',\n",
       " 'Guatemala',\n",
       " 'Haiti',\n",
       " 'Hawaii',\n",
       " 'Honduras',\n",
       " 'India',\n",
       " 'Indonesia',\n",
       " 'Indonesia, Ghana',\n",
       " 'Ivory Coast',\n",
       " 'Jamaica',\n",
       " 'Liberia',\n",
       " 'Mad., Java, PNG',\n",
       " 'Madagascar',\n",
       " 'Madagascar & Ecuador',\n",
       " 'Malaysia',\n",
       " 'Martinique',\n",
       " 'Mexico',\n",
       " 'Nicaragua',\n",
       " 'Nigeria',\n",
       " 'PNG, Vanuatu, Mad',\n",
       " 'Panama',\n",
       " 'Papua New Guinea',\n",
       " 'Peru',\n",
       " 'Peru(SMartin,Pangoa,nacional)',\n",
       " 'Peru, Belize',\n",
       " 'Peru, Dom. Rep',\n",
       " 'Peru, Ecuador',\n",
       " 'Peru, Ecuador, Venezuela',\n",
       " 'Peru, Mad., Dom. Rep.',\n",
       " 'Peru, Madagascar',\n",
       " 'Philippines',\n",
       " 'Principe',\n",
       " 'Puerto Rico',\n",
       " 'Samoa',\n",
       " 'Sao Tome',\n",
       " 'Sao Tome & Principe',\n",
       " 'Solomon Islands',\n",
       " 'South America',\n",
       " 'South America, Africa',\n",
       " 'Sri Lanka',\n",
       " 'St. Lucia',\n",
       " 'Suriname',\n",
       " 'Tanzania',\n",
       " 'Tobago',\n",
       " 'Togo',\n",
       " 'Trinidad',\n",
       " 'Trinidad, Ecuador',\n",
       " 'Trinidad, Tobago',\n",
       " 'Trinidad-Tobago',\n",
       " 'Uganda',\n",
       " 'Vanuatu',\n",
       " 'Ven, Trinidad, Ecuador',\n",
       " 'Ven., Indonesia, Ecuad.',\n",
       " 'Ven., Trinidad, Mad.',\n",
       " 'Ven.,Ecu.,Peru,Nic.',\n",
       " 'Venez,Africa,Brasil,Peru,Mex',\n",
       " 'Venezuela',\n",
       " 'Venezuela, Carribean',\n",
       " 'Venezuela, Dom. Rep.',\n",
       " 'Venezuela, Ghana',\n",
       " 'Venezuela, Java',\n",
       " 'Venezuela, Trinidad',\n",
       " 'Venezuela/ Ghana',\n",
       " 'Vietnam',\n",
       " 'West Africa'}"
      ]
     },
     "execution_count": 19,
     "metadata": {},
     "output_type": "execute_result"
    }
   ],
   "source": [
    "# 카카오 산지 요소 확인\n",
    "set(cacao.Broad_Bean_Origin)    # 많지만 겹치는 부분이 있음\n",
    "# 산지가 여러곳 있는 데이터들은 가장 맨 앞의 지역으로 바꿈"
   ]
  },
  {
   "cell_type": "code",
   "execution_count": 20,
   "metadata": {},
   "outputs": [
    {
     "data": {
      "text/plain": [
       "{'Africa',\n",
       " 'Australia',\n",
       " 'Belize',\n",
       " 'Bolivia',\n",
       " 'Brazil',\n",
       " 'Burma',\n",
       " 'Cameroon',\n",
       " 'Carribean',\n",
       " 'Carribean(DR/Jam/Tri)',\n",
       " 'Central and S. America',\n",
       " 'Colombia',\n",
       " 'Congo',\n",
       " 'Cost Rica',\n",
       " 'Costa Rica',\n",
       " 'Cuba',\n",
       " 'DR',\n",
       " 'Dom. Rep.',\n",
       " 'Domincan Republic',\n",
       " 'Dominican Rep.',\n",
       " 'Dominican Republic',\n",
       " 'Ecuador',\n",
       " 'El Salvador',\n",
       " 'Fiji',\n",
       " 'Gabon',\n",
       " 'Ghana',\n",
       " 'Ghana & Madagascar',\n",
       " 'Gre.',\n",
       " 'Grenada',\n",
       " 'Guat.',\n",
       " 'Guatemala',\n",
       " 'Haiti',\n",
       " 'Hawaii',\n",
       " 'Honduras',\n",
       " 'India',\n",
       " 'Indonesia',\n",
       " 'Ivory Coast',\n",
       " 'Jamaica',\n",
       " 'Liberia',\n",
       " 'Mad.',\n",
       " 'Madagascar',\n",
       " 'Madagascar & Ecuador',\n",
       " 'Malaysia',\n",
       " 'Martinique',\n",
       " 'Mexico',\n",
       " 'Nicaragua',\n",
       " 'Nigeria',\n",
       " 'PNG',\n",
       " 'Panama',\n",
       " 'Papua New Guinea',\n",
       " 'Peru',\n",
       " 'Peru(SMartin',\n",
       " 'Philippines',\n",
       " 'Principe',\n",
       " 'Puerto Rico',\n",
       " 'Samoa',\n",
       " 'Sao Tome',\n",
       " 'Sao Tome & Principe',\n",
       " 'Solomon Islands',\n",
       " 'South America',\n",
       " 'Sri Lanka',\n",
       " 'St. Lucia',\n",
       " 'Suriname',\n",
       " 'Tanzania',\n",
       " 'Tobago',\n",
       " 'Togo',\n",
       " 'Trinidad',\n",
       " 'Trinidad-Tobago',\n",
       " 'Uganda',\n",
       " 'Vanuatu',\n",
       " 'Ven',\n",
       " 'Ven.',\n",
       " 'Venez',\n",
       " 'Venezuela',\n",
       " 'Venezuela/ Ghana',\n",
       " 'Vietnam',\n",
       " 'West Africa'}"
      ]
     },
     "execution_count": 20,
     "metadata": {},
     "output_type": "execute_result"
    }
   ],
   "source": [
    "# 산지가 여러곳 있는 데이터들은 가장 맨 앞의 지역으로 바꿈\n",
    "cacao.Broad_Bean_Origin = cacao.Broad_Bean_Origin.str.split(',', expand=True).iloc[:,0:1]\n",
    "set(cacao.Broad_Bean_Origin)"
   ]
  },
  {
   "cell_type": "code",
   "execution_count": 21,
   "metadata": {},
   "outputs": [
    {
     "data": {
      "text/html": [
       "<div>\n",
       "<style scoped>\n",
       "    .dataframe tbody tr th:only-of-type {\n",
       "        vertical-align: middle;\n",
       "    }\n",
       "\n",
       "    .dataframe tbody tr th {\n",
       "        vertical-align: top;\n",
       "    }\n",
       "\n",
       "    .dataframe thead th {\n",
       "        text-align: right;\n",
       "    }\n",
       "</style>\n",
       "<table border=\"1\" class=\"dataframe\">\n",
       "  <thead>\n",
       "    <tr style=\"text-align: right;\">\n",
       "      <th></th>\n",
       "      <th>REF</th>\n",
       "      <th>Review_Date</th>\n",
       "      <th>Cocoa_Percent</th>\n",
       "      <th>Rating</th>\n",
       "    </tr>\n",
       "  </thead>\n",
       "  <tbody>\n",
       "    <tr>\n",
       "      <th>REF</th>\n",
       "      <td>1.000000</td>\n",
       "      <td>0.985274</td>\n",
       "      <td>0.038300</td>\n",
       "      <td>0.080853</td>\n",
       "    </tr>\n",
       "    <tr>\n",
       "      <th>Review_Date</th>\n",
       "      <td>0.985274</td>\n",
       "      <td>1.000000</td>\n",
       "      <td>0.040361</td>\n",
       "      <td>0.075973</td>\n",
       "    </tr>\n",
       "    <tr>\n",
       "      <th>Cocoa_Percent</th>\n",
       "      <td>0.038300</td>\n",
       "      <td>0.040361</td>\n",
       "      <td>1.000000</td>\n",
       "      <td>-0.146029</td>\n",
       "    </tr>\n",
       "    <tr>\n",
       "      <th>Rating</th>\n",
       "      <td>0.080853</td>\n",
       "      <td>0.075973</td>\n",
       "      <td>-0.146029</td>\n",
       "      <td>1.000000</td>\n",
       "    </tr>\n",
       "  </tbody>\n",
       "</table>\n",
       "</div>"
      ],
      "text/plain": [
       "                    REF  Review_Date  Cocoa_Percent    Rating\n",
       "REF            1.000000     0.985274       0.038300  0.080853\n",
       "Review_Date    0.985274     1.000000       0.040361  0.075973\n",
       "Cocoa_Percent  0.038300     0.040361       1.000000 -0.146029\n",
       "Rating         0.080853     0.075973      -0.146029  1.000000"
      ]
     },
     "execution_count": 21,
     "metadata": {},
     "output_type": "execute_result"
    }
   ],
   "source": [
    "# 연속형 변수들간의 상관관계 분석. 리뷰 연도와 등록 순서만 높은 상관관계를 보임.\n",
    "# 다른 변수들간에는 별 상관관계가 없다는 것을 알 수 있음.\n",
    "\n",
    "C = cacao.corr()\n",
    "C"
   ]
  },
  {
   "cell_type": "code",
   "execution_count": 22,
   "metadata": {},
   "outputs": [
    {
     "data": {
      "text/plain": [
       "<AxesSubplot:ylabel='Frequency'>"
      ]
     },
     "execution_count": 22,
     "metadata": {},
     "output_type": "execute_result"
    },
    {
     "data": {
      "image/png": "[encoded data removed]",
      "text/plain": [
       "<Figure size 720x576 with 1 Axes>"
      ]
     },
     "metadata": {
      "needs_background": "light"
     },
     "output_type": "display_data"
    }
   ],
   "source": [
    "# 초콜릿바 등급의 히스토그램을 그림\n",
    "# 등급 분포 확인\n",
    "import matplotlib.pyplot as plt\n",
    "\n",
    "fig, ax = plt.subplots(figsize=(10, 8))\n",
    "cacao.Rating.plot.hist(ax = ax, bins = 15)"
   ]
  },
  {
   "cell_type": "code",
   "execution_count": 23,
   "metadata": {},
   "outputs": [
    {
     "data": {
      "text/plain": [
       "KstestResult(statistic=0.9714359145634487, pvalue=0.0)"
      ]
     },
     "execution_count": 23,
     "metadata": {},
     "output_type": "execute_result"
    }
   ],
   "source": [
    "from scipy import stats\n",
    "stats.kstest(cacao.Rating, cdf='norm')\n",
    "# 초콜릿바의 등급이 정규분포가 아님을 알 수 있음"
   ]
  },
  {
   "cell_type": "code",
   "execution_count": 24,
   "metadata": {},
   "outputs": [
    {
     "data": {
      "text/plain": [
       "<AxesSubplot:ylabel='Frequency'>"
      ]
     },
     "execution_count": 24,
     "metadata": {},
     "output_type": "execute_result"
    },
    {
     "data": {
      "image/png": "[encoded data removed]",
      "text/plain": [
       "<Figure size 720x576 with 1 Axes>"
      ]
     },
     "metadata": {
      "needs_background": "light"
     },
     "output_type": "display_data"
    }
   ],
   "source": [
    "import matplotlib.pyplot as plt\n",
    "\n",
    "fig, ax = plt.subplots(figsize=(10, 8))\n",
    "cacao.Cocoa_Percent.plot.hist(ax = ax, bins = 30)"
   ]
  },
  {
   "cell_type": "code",
   "execution_count": 26,
   "metadata": {},
   "outputs": [
    {
     "data": {
      "text/html": [
       "<div>\n",
       "<style scoped>\n",
       "    .dataframe tbody tr th:only-of-type {\n",
       "        vertical-align: middle;\n",
       "    }\n",
       "\n",
       "    .dataframe tbody tr th {\n",
       "        vertical-align: top;\n",
       "    }\n",
       "\n",
       "    .dataframe thead th {\n",
       "        text-align: right;\n",
       "    }\n",
       "</style>\n",
       "<table border=\"1\" class=\"dataframe\">\n",
       "  <thead>\n",
       "    <tr style=\"text-align: right;\">\n",
       "      <th></th>\n",
       "      <th>Review_Date</th>\n",
       "      <th>Rating</th>\n",
       "      <th>Company</th>\n",
       "      <th>Company_Location</th>\n",
       "    </tr>\n",
       "  </thead>\n",
       "  <tbody>\n",
       "    <tr>\n",
       "      <th>242</th>\n",
       "      <td>2006</td>\n",
       "      <td>4.00</td>\n",
       "      <td>Bonnat</td>\n",
       "      <td>France</td>\n",
       "    </tr>\n",
       "    <tr>\n",
       "      <th>78</th>\n",
       "      <td>2007</td>\n",
       "      <td>5.00</td>\n",
       "      <td>Amedei</td>\n",
       "      <td>Italy</td>\n",
       "    </tr>\n",
       "    <tr>\n",
       "      <th>239</th>\n",
       "      <td>2008</td>\n",
       "      <td>4.00</td>\n",
       "      <td>Bonnat</td>\n",
       "      <td>France</td>\n",
       "    </tr>\n",
       "    <tr>\n",
       "      <th>315</th>\n",
       "      <td>2009</td>\n",
       "      <td>4.00</td>\n",
       "      <td>Cacao Sampaka</td>\n",
       "      <td>Spain</td>\n",
       "    </tr>\n",
       "    <tr>\n",
       "      <th>56</th>\n",
       "      <td>2010</td>\n",
       "      <td>4.00</td>\n",
       "      <td>Amano</td>\n",
       "      <td>U.S.A.</td>\n",
       "    </tr>\n",
       "    <tr>\n",
       "      <th>54</th>\n",
       "      <td>2011</td>\n",
       "      <td>4.00</td>\n",
       "      <td>Amano</td>\n",
       "      <td>U.S.A.</td>\n",
       "    </tr>\n",
       "    <tr>\n",
       "      <th>502</th>\n",
       "      <td>2012</td>\n",
       "      <td>4.00</td>\n",
       "      <td>Danta</td>\n",
       "      <td>Guatemala</td>\n",
       "    </tr>\n",
       "    <tr>\n",
       "      <th>17</th>\n",
       "      <td>2013</td>\n",
       "      <td>4.00</td>\n",
       "      <td>A. Morin</td>\n",
       "      <td>France</td>\n",
       "    </tr>\n",
       "    <tr>\n",
       "      <th>9</th>\n",
       "      <td>2014</td>\n",
       "      <td>4.00</td>\n",
       "      <td>A. Morin</td>\n",
       "      <td>France</td>\n",
       "    </tr>\n",
       "    <tr>\n",
       "      <th>117</th>\n",
       "      <td>2015</td>\n",
       "      <td>4.00</td>\n",
       "      <td>Arete</td>\n",
       "      <td>U.S.A.</td>\n",
       "    </tr>\n",
       "    <tr>\n",
       "      <th>107</th>\n",
       "      <td>2016</td>\n",
       "      <td>4.00</td>\n",
       "      <td>Arete</td>\n",
       "      <td>U.S.A.</td>\n",
       "    </tr>\n",
       "    <tr>\n",
       "      <th>535</th>\n",
       "      <td>2017</td>\n",
       "      <td>3.75</td>\n",
       "      <td>Dick Taylor</td>\n",
       "      <td>U.S.A.</td>\n",
       "    </tr>\n",
       "  </tbody>\n",
       "</table>\n",
       "</div>"
      ],
      "text/plain": [
       "     Review_Date  Rating        Company Company_Location\n",
       "242         2006    4.00         Bonnat           France\n",
       "78          2007    5.00         Amedei            Italy\n",
       "239         2008    4.00         Bonnat           France\n",
       "315         2009    4.00  Cacao Sampaka            Spain\n",
       "56          2010    4.00          Amano           U.S.A.\n",
       "54          2011    4.00          Amano           U.S.A.\n",
       "502         2012    4.00          Danta        Guatemala\n",
       "17          2013    4.00       A. Morin           France\n",
       "9           2014    4.00       A. Morin           France\n",
       "117         2015    4.00          Arete           U.S.A.\n",
       "107         2016    4.00          Arete           U.S.A.\n",
       "535         2017    3.75    Dick Taylor           U.S.A."
      ]
     },
     "execution_count": 26,
     "metadata": {},
     "output_type": "execute_result"
    }
   ],
   "source": [
    "# 연도별 가장 등급이 높은 초콜릿바\n",
    "(\n",
    "    cacao[['Review_Date', 'Rating', \"Company\",\"Company_Location\"]]\n",
    "    .sort_values(['Review_Date', 'Rating'], ascending=[True, False])\n",
    "    .drop_duplicates(subset='Review_Date')\n",
    ")"
   ]
  },
  {
   "cell_type": "code",
   "execution_count": 27,
   "metadata": {},
   "outputs": [
    {
     "data": {
      "text/plain": [
       "4.062"
      ]
     },
     "execution_count": 27,
     "metadata": {},
     "output_type": "execute_result"
    }
   ],
   "source": [
    "# 연도별 가장 등급이 높은 초콜릿바의 평균 등급\n",
    "(\n",
    "    cacao[['Review_Date', 'Rating', \"Company\",\"Company_Location\"]]\n",
    "    .sort_values(['Review_Date', 'Rating'], ascending=[True, False])\n",
    "    .drop_duplicates(subset='Review_Date')['Rating'].mean()\n",
    ")"
   ]
  },
  {
   "cell_type": "code",
   "execution_count": 25,
   "metadata": {},
   "outputs": [
    {
     "data": {
      "text/plain": [
       "{'Amsterdam',\n",
       " 'Argentina',\n",
       " 'Australia',\n",
       " 'Austria',\n",
       " 'Belgium',\n",
       " 'Bolivia',\n",
       " 'Brazil',\n",
       " 'Canada',\n",
       " 'Chile',\n",
       " 'Colombia',\n",
       " 'Costa Rica',\n",
       " 'Czech Republic',\n",
       " 'Denmark',\n",
       " 'Domincan Republic',\n",
       " 'Ecuador',\n",
       " 'Eucador',\n",
       " 'Fiji',\n",
       " 'Finland',\n",
       " 'France',\n",
       " 'Germany',\n",
       " 'Ghana',\n",
       " 'Grenada',\n",
       " 'Guatemala',\n",
       " 'Honduras',\n",
       " 'Hungary',\n",
       " 'Iceland',\n",
       " 'India',\n",
       " 'Ireland',\n",
       " 'Israel',\n",
       " 'Italy',\n",
       " 'Japan',\n",
       " 'Lithuania',\n",
       " 'Madagascar',\n",
       " 'Martinique',\n",
       " 'Mexico',\n",
       " 'Netherlands',\n",
       " 'New Zealand',\n",
       " 'Niacragua',\n",
       " 'Nicaragua',\n",
       " 'Peru',\n",
       " 'Philippines',\n",
       " 'Poland',\n",
       " 'Portugal',\n",
       " 'Puerto Rico',\n",
       " 'Russia',\n",
       " 'Sao Tome',\n",
       " 'Scotland',\n",
       " 'Singapore',\n",
       " 'South Africa',\n",
       " 'South Korea',\n",
       " 'Spain',\n",
       " 'St. Lucia',\n",
       " 'Suriname',\n",
       " 'Sweden',\n",
       " 'Switzerland',\n",
       " 'U.K.',\n",
       " 'U.S.A.',\n",
       " 'Venezuela',\n",
       " 'Vietnam',\n",
       " 'Wales'}"
      ]
     },
     "execution_count": 25,
     "metadata": {},
     "output_type": "execute_result"
    }
   ],
   "source": [
    "# 변수 요소들이 많은 것을 알 수 있음\n",
    "# 상위 몇 개만 시각화\n",
    "set(cacao.Company_Location)"
   ]
  },
  {
   "cell_type": "code",
   "execution_count": 28,
   "metadata": {},
   "outputs": [
    {
     "data": {
      "text/plain": [
       "Index(['Soma', 'Fresco', 'Bonnat', 'Pralus', 'A. Morin', 'Arete', 'Domori',\n",
       "       'Hotel Chocolat (Coppeneur)', 'Coppeneur', 'Valrhona'],\n",
       "      dtype='object')"
      ]
     },
     "execution_count": 28,
     "metadata": {},
     "output_type": "execute_result"
    }
   ],
   "source": [
    "top_10_company = cacao.Company.value_counts().index[:10]\n",
    "top_10_company"
   ]
  },
  {
   "cell_type": "code",
   "execution_count": 29,
   "metadata": {},
   "outputs": [
    {
     "data": {
      "text/plain": [
       "<AxesSubplot:xlabel='count', ylabel='Company'>"
      ]
     },
     "execution_count": 29,
     "metadata": {},
     "output_type": "execute_result"
    },
    {
     "data": {
      "image/png": "[encoded data removed]",
      "text/plain": [
       "<Figure size 720x576 with 1 Axes>"
      ]
     },
     "metadata": {
      "needs_background": "light"
     },
     "output_type": "display_data"
    }
   ],
   "source": [
    "# 초콜릿을 가장 많이 만드는 회사(top10가 아닌 회사는 other로 분류)\n",
    "# other이 너무 많아서 시각화가 잘 되지 않음\n",
    "# 따라서 other을 제외하기로 함\n",
    "\n",
    "import seaborn as sns\n",
    "\n",
    "fig, ax = plt.subplots(figsize=(10, 8))\n",
    "sns.countplot(y='Company',\n",
    "              data=(cacao.assign(\n",
    "                  Company=cacao.Company.where(cacao.Company.isin(top_10_company), 'Other'))\n",
    "                   )\n",
    "             )"
   ]
  },
  {
   "cell_type": "code",
   "execution_count": 30,
   "metadata": {},
   "outputs": [
    {
     "data": {
      "text/html": [
       "<div>\n",
       "<style scoped>\n",
       "    .dataframe tbody tr th:only-of-type {\n",
       "        vertical-align: middle;\n",
       "    }\n",
       "\n",
       "    .dataframe tbody tr th {\n",
       "        vertical-align: top;\n",
       "    }\n",
       "\n",
       "    .dataframe thead th {\n",
       "        text-align: right;\n",
       "    }\n",
       "</style>\n",
       "<table border=\"1\" class=\"dataframe\">\n",
       "  <thead>\n",
       "    <tr style=\"text-align: right;\">\n",
       "      <th></th>\n",
       "      <th>Company</th>\n",
       "      <th>Specific_Bean_Origin_or_Bar_Name</th>\n",
       "      <th>REF</th>\n",
       "      <th>Review_Date</th>\n",
       "      <th>Cocoa_Percent</th>\n",
       "      <th>Company_Location</th>\n",
       "      <th>Rating</th>\n",
       "      <th>Broad_Bean_Origin</th>\n",
       "    </tr>\n",
       "  </thead>\n",
       "  <tbody>\n",
       "    <tr>\n",
       "      <th>0</th>\n",
       "      <td>A. Morin</td>\n",
       "      <td>Agua Grande</td>\n",
       "      <td>1876</td>\n",
       "      <td>2016</td>\n",
       "      <td>63.0</td>\n",
       "      <td>France</td>\n",
       "      <td>3.75</td>\n",
       "      <td>Sao Tome</td>\n",
       "    </tr>\n",
       "    <tr>\n",
       "      <th>3</th>\n",
       "      <td>A. Morin</td>\n",
       "      <td>Akata</td>\n",
       "      <td>1680</td>\n",
       "      <td>2015</td>\n",
       "      <td>70.0</td>\n",
       "      <td>France</td>\n",
       "      <td>3.50</td>\n",
       "      <td>Togo</td>\n",
       "    </tr>\n",
       "    <tr>\n",
       "      <th>4</th>\n",
       "      <td>A. Morin</td>\n",
       "      <td>Quilla</td>\n",
       "      <td>1704</td>\n",
       "      <td>2015</td>\n",
       "      <td>70.0</td>\n",
       "      <td>France</td>\n",
       "      <td>3.50</td>\n",
       "      <td>Peru</td>\n",
       "    </tr>\n",
       "    <tr>\n",
       "      <th>6</th>\n",
       "      <td>A. Morin</td>\n",
       "      <td>Cuba</td>\n",
       "      <td>1315</td>\n",
       "      <td>2014</td>\n",
       "      <td>70.0</td>\n",
       "      <td>France</td>\n",
       "      <td>3.50</td>\n",
       "      <td>Cuba</td>\n",
       "    </tr>\n",
       "    <tr>\n",
       "      <th>7</th>\n",
       "      <td>A. Morin</td>\n",
       "      <td>Sur del Lago</td>\n",
       "      <td>1315</td>\n",
       "      <td>2014</td>\n",
       "      <td>70.0</td>\n",
       "      <td>France</td>\n",
       "      <td>3.50</td>\n",
       "      <td>Venezuela</td>\n",
       "    </tr>\n",
       "  </tbody>\n",
       "</table>\n",
       "</div>"
      ],
      "text/plain": [
       "    Company Specific_Bean_Origin_or_Bar_Name   REF  Review_Date  \\\n",
       "0  A. Morin                      Agua Grande  1876         2016   \n",
       "3  A. Morin                            Akata  1680         2015   \n",
       "4  A. Morin                           Quilla  1704         2015   \n",
       "6  A. Morin                             Cuba  1315         2014   \n",
       "7  A. Morin                     Sur del Lago  1315         2014   \n",
       "\n",
       "   Cocoa_Percent Company_Location  Rating Broad_Bean_Origin  \n",
       "0           63.0           France    3.75          Sao Tome  \n",
       "3           70.0           France    3.50              Togo  \n",
       "4           70.0           France    3.50              Peru  \n",
       "6           70.0           France    3.50              Cuba  \n",
       "7           70.0           France    3.50         Venezuela  "
      ]
     },
     "execution_count": 30,
     "metadata": {},
     "output_type": "execute_result"
    }
   ],
   "source": [
    "# 초콜릿 등급이 3보다 높은 것만\n",
    "\n",
    "rating = (cacao.Rating > 3)\n",
    "rating_3 = cacao[rating]\n",
    "rating_3.head()"
   ]
  },
  {
   "cell_type": "code",
   "execution_count": 31,
   "metadata": {},
   "outputs": [
    {
     "data": {
      "text/plain": [
       "Index(['U.S.A.', 'France', 'Canada', 'U.K.', 'Italy', 'Ecuador'], dtype='object')"
      ]
     },
     "execution_count": 31,
     "metadata": {},
     "output_type": "execute_result"
    }
   ],
   "source": [
    "top_6_company_CL = cacao.Company_Location.value_counts().index[:6]\n",
    "top_6_company_CL"
   ]
  },
  {
   "cell_type": "code",
   "execution_count": 33,
   "metadata": {},
   "outputs": [
    {
     "data": {
      "text/plain": [
       "<AxesSubplot:xlabel='count', ylabel='Company_Location'>"
      ]
     },
     "execution_count": 33,
     "metadata": {},
     "output_type": "execute_result"
    },
    {
     "data": {
      "image/png": "[encoded data removed]",
      "text/plain": [
       "<Figure size 720x576 with 1 Axes>"
      ]
     },
     "metadata": {
      "needs_background": "light"
     },
     "output_type": "display_data"
    }
   ],
   "source": [
    "# 초콜릿을 많이 만드는 나라는 U.S.A임을 알 수 있음\n",
    "\n",
    "import seaborn as sns\n",
    "\n",
    "fig, ax = plt.subplots(figsize=(10, 8))\n",
    "sns.countplot(y='Company_Location',\n",
    "              data=(cacao.assign(\n",
    "                  Company_Location=cacao.Company_Location.where(cacao.Company_Location.isin(top_6_company_CL)))))"
   ]
  },
  {
   "cell_type": "code",
   "execution_count": 34,
   "metadata": {},
   "outputs": [
    {
     "data": {
      "text/plain": [
       "Index(['U.S.A.', 'France', 'Canada', 'U.K.', 'Australia', 'Italy'], dtype='object')"
      ]
     },
     "execution_count": 34,
     "metadata": {},
     "output_type": "execute_result"
    }
   ],
   "source": [
    "# 평점 3이상(만족스러움)인 초콜릿바를 생산한 top6위 회사들\n",
    "top_6_Rating3_CL = rating_3.Company_Location.value_counts().index[:6]\n",
    "top_6_Rating3_CL"
   ]
  },
  {
   "cell_type": "code",
   "execution_count": 72,
   "metadata": {},
   "outputs": [
    {
     "data": {
      "text/plain": [
       "<AxesSubplot:xlabel='count', ylabel='Company_Location'>"
      ]
     },
     "execution_count": 72,
     "metadata": {},
     "output_type": "execute_result"
    },
    {
     "data": {
      "image/png": "[encoded data removed]",
      "text/plain": [
       "<Figure size 576x360 with 1 Axes>"
      ]
     },
     "metadata": {
      "needs_background": "light"
     },
     "output_type": "display_data"
    }
   ],
   "source": [
    "fig, ax = plt.subplots(figsize=(8, 5))\n",
    "sns.countplot(y='Company_Location',\n",
    "              data=(rating_3.assign(\n",
    "                  Company_Location=rating_3.Company_Location.where(rating_3.Company_Location.isin(top_6_Rating3_CL)))))"
   ]
  },
  {
   "cell_type": "code",
   "execution_count": 36,
   "metadata": {},
   "outputs": [
    {
     "data": {
      "text/plain": [
       "Index(['Soma', 'Fresco', 'Bonnat', 'Pralus', 'A. Morin', 'Arete', 'Domori',\n",
       "       'Hotel Chocolat (Coppeneur)', 'Coppeneur', 'Valrhona'],\n",
       "      dtype='object')"
      ]
     },
     "execution_count": 36,
     "metadata": {},
     "output_type": "execute_result"
    }
   ],
   "source": [
    "# 초콜릿을 많이 만드는 회사 top10\n",
    "\n",
    "top_10_company = cacao.Company.value_counts().index[:10]\n",
    "top_10_company"
   ]
  },
  {
   "cell_type": "code",
   "execution_count": 37,
   "metadata": {},
   "outputs": [
    {
     "data": {
      "text/plain": [
       "<AxesSubplot:xlabel='count', ylabel='Company'>"
      ]
     },
     "execution_count": 37,
     "metadata": {},
     "output_type": "execute_result"
    },
    {
     "data": {
      "image/png": "[encoded data removed]",
      "text/plain": [
       "<Figure size 720x576 with 1 Axes>"
      ]
     },
     "metadata": {
      "needs_background": "light"
     },
     "output_type": "display_data"
    }
   ],
   "source": [
    "# 초콜릿을 많이 만드는 회사 top10. soma가 가장 많다는 것을 알 수 있음\n",
    "\n",
    "import seaborn as sns\n",
    "\n",
    "fig, ax = plt.subplots(figsize=(10, 8))\n",
    "sns.countplot(y='Company',\n",
    "              data=(cacao.assign(\n",
    "                  Company=cacao.Company.where(cacao.Company.isin(top_10_company)))\n",
    "                   )\n",
    "             )"
   ]
  },
  {
   "cell_type": "code",
   "execution_count": 38,
   "metadata": {},
   "outputs": [
    {
     "data": {
      "text/plain": [
       "Index(['Soma', 'Arete', 'Bonnat', 'Fresco', 'A. Morin', 'Pralus', 'Domori',\n",
       "       'Szanto Tibor', 'Smooth Chocolator, The', 'Valrhona'],\n",
       "      dtype='object')"
      ]
     },
     "execution_count": 38,
     "metadata": {},
     "output_type": "execute_result"
    }
   ],
   "source": [
    "# 평점 3이상(만족스러움)인 초콜릿바를 생산한 top10위 회사들\n",
    "top_10_Rating3_C = rating_3.Company.value_counts().index[:10]\n",
    "top_10_Rating3_C"
   ]
  },
  {
   "cell_type": "code",
   "execution_count": 39,
   "metadata": {},
   "outputs": [
    {
     "data": {
      "text/plain": [
       "<AxesSubplot:xlabel='count', ylabel='Company'>"
      ]
     },
     "execution_count": 39,
     "metadata": {},
     "output_type": "execute_result"
    },
    {
     "data": {
      "image/png": "[encoded data removed]",
      "text/plain": [
       "<Figure size 720x576 with 1 Axes>"
      ]
     },
     "metadata": {
      "needs_background": "light"
     },
     "output_type": "display_data"
    }
   ],
   "source": [
    "# 평점 3이상(만족스러움)인 초콜릿바를 생산한 top10위 회사들. 일부 회사가 바뀌었다.\n",
    "\n",
    "fig, ax = plt.subplots(figsize=(10, 8))\n",
    "sns.countplot(y='Company',\n",
    "              data=(rating_3.assign(\n",
    "                  Company=rating_3.Company.where(rating_3.Company.isin(top_10_Rating3_C)))))"
   ]
  },
  {
   "cell_type": "code",
   "execution_count": 40,
   "metadata": {},
   "outputs": [
    {
     "data": {
      "text/plain": [
       "Company_Location\n",
       "U.S.A.       5\n",
       "France       4\n",
       "Spain        1\n",
       "Italy        1\n",
       "Guatemala    1\n",
       "dtype: int64"
      ]
     },
     "execution_count": 40,
     "metadata": {},
     "output_type": "execute_result"
    }
   ],
   "source": [
    "# 연도별 가장 등급이 높은 초콜릿을 가장 많이 만든 나라는 U.S.A.이다.\n",
    "(\n",
    "    cacao[['Review_Date', 'Rating', \"Company\",\"Company_Location\"]]\n",
    "    .sort_values(['Review_Date', 'Rating'], ascending=[True, False])\n",
    "    .drop_duplicates(subset='Review_Date')\n",
    "    .value_counts('Company_Location')\n",
    ")"
   ]
  },
  {
   "cell_type": "code",
   "execution_count": 41,
   "metadata": {},
   "outputs": [
    {
     "data": {
      "text/html": [
       "<div>\n",
       "<style scoped>\n",
       "    .dataframe tbody tr th:only-of-type {\n",
       "        vertical-align: middle;\n",
       "    }\n",
       "\n",
       "    .dataframe tbody tr th {\n",
       "        vertical-align: top;\n",
       "    }\n",
       "\n",
       "    .dataframe thead th {\n",
       "        text-align: right;\n",
       "    }\n",
       "</style>\n",
       "<table border=\"1\" class=\"dataframe\">\n",
       "  <thead>\n",
       "    <tr style=\"text-align: right;\">\n",
       "      <th></th>\n",
       "      <th>Company</th>\n",
       "      <th>Specific_Bean_Origin_or_Bar_Name</th>\n",
       "      <th>REF</th>\n",
       "      <th>Review_Date</th>\n",
       "      <th>Cocoa_Percent</th>\n",
       "      <th>Company_Location</th>\n",
       "      <th>Rating</th>\n",
       "      <th>Broad_Bean_Origin</th>\n",
       "    </tr>\n",
       "  </thead>\n",
       "  <tbody>\n",
       "    <tr>\n",
       "      <th>0</th>\n",
       "      <td>A. Morin</td>\n",
       "      <td>Agua Grande</td>\n",
       "      <td>1876</td>\n",
       "      <td>2016</td>\n",
       "      <td>63.0</td>\n",
       "      <td>France</td>\n",
       "      <td>3.75</td>\n",
       "      <td>Sao Tome</td>\n",
       "    </tr>\n",
       "    <tr>\n",
       "      <th>3</th>\n",
       "      <td>A. Morin</td>\n",
       "      <td>Akata</td>\n",
       "      <td>1680</td>\n",
       "      <td>2015</td>\n",
       "      <td>70.0</td>\n",
       "      <td>France</td>\n",
       "      <td>3.50</td>\n",
       "      <td>Togo</td>\n",
       "    </tr>\n",
       "    <tr>\n",
       "      <th>4</th>\n",
       "      <td>A. Morin</td>\n",
       "      <td>Quilla</td>\n",
       "      <td>1704</td>\n",
       "      <td>2015</td>\n",
       "      <td>70.0</td>\n",
       "      <td>France</td>\n",
       "      <td>3.50</td>\n",
       "      <td>Peru</td>\n",
       "    </tr>\n",
       "    <tr>\n",
       "      <th>6</th>\n",
       "      <td>A. Morin</td>\n",
       "      <td>Cuba</td>\n",
       "      <td>1315</td>\n",
       "      <td>2014</td>\n",
       "      <td>70.0</td>\n",
       "      <td>France</td>\n",
       "      <td>3.50</td>\n",
       "      <td>Cuba</td>\n",
       "    </tr>\n",
       "    <tr>\n",
       "      <th>7</th>\n",
       "      <td>A. Morin</td>\n",
       "      <td>Sur del Lago</td>\n",
       "      <td>1315</td>\n",
       "      <td>2014</td>\n",
       "      <td>70.0</td>\n",
       "      <td>France</td>\n",
       "      <td>3.50</td>\n",
       "      <td>Venezuela</td>\n",
       "    </tr>\n",
       "    <tr>\n",
       "      <th>...</th>\n",
       "      <td>...</td>\n",
       "      <td>...</td>\n",
       "      <td>...</td>\n",
       "      <td>...</td>\n",
       "      <td>...</td>\n",
       "      <td>...</td>\n",
       "      <td>...</td>\n",
       "      <td>...</td>\n",
       "    </tr>\n",
       "    <tr>\n",
       "      <th>1787</th>\n",
       "      <td>Zotter</td>\n",
       "      <td>Santo Domingo</td>\n",
       "      <td>879</td>\n",
       "      <td>2012</td>\n",
       "      <td>70.0</td>\n",
       "      <td>Austria</td>\n",
       "      <td>3.75</td>\n",
       "      <td>Dominican Republic</td>\n",
       "    </tr>\n",
       "    <tr>\n",
       "      <th>1788</th>\n",
       "      <td>Zotter</td>\n",
       "      <td>Kongo, Highlands</td>\n",
       "      <td>883</td>\n",
       "      <td>2012</td>\n",
       "      <td>68.0</td>\n",
       "      <td>Austria</td>\n",
       "      <td>3.25</td>\n",
       "      <td>Congo</td>\n",
       "    </tr>\n",
       "    <tr>\n",
       "      <th>1790</th>\n",
       "      <td>Zotter</td>\n",
       "      <td>Peru</td>\n",
       "      <td>647</td>\n",
       "      <td>2011</td>\n",
       "      <td>70.0</td>\n",
       "      <td>Austria</td>\n",
       "      <td>3.75</td>\n",
       "      <td>Peru</td>\n",
       "    </tr>\n",
       "    <tr>\n",
       "      <th>1792</th>\n",
       "      <td>Zotter</td>\n",
       "      <td>Kerala State</td>\n",
       "      <td>749</td>\n",
       "      <td>2011</td>\n",
       "      <td>65.0</td>\n",
       "      <td>Austria</td>\n",
       "      <td>3.50</td>\n",
       "      <td>India</td>\n",
       "    </tr>\n",
       "    <tr>\n",
       "      <th>1793</th>\n",
       "      <td>Zotter</td>\n",
       "      <td>Kerala State</td>\n",
       "      <td>781</td>\n",
       "      <td>2011</td>\n",
       "      <td>62.0</td>\n",
       "      <td>Austria</td>\n",
       "      <td>3.25</td>\n",
       "      <td>India</td>\n",
       "    </tr>\n",
       "  </tbody>\n",
       "</table>\n",
       "<p>969 rows × 8 columns</p>\n",
       "</div>"
      ],
      "text/plain": [
       "       Company Specific_Bean_Origin_or_Bar_Name   REF  Review_Date  \\\n",
       "0     A. Morin                      Agua Grande  1876         2016   \n",
       "3     A. Morin                            Akata  1680         2015   \n",
       "4     A. Morin                           Quilla  1704         2015   \n",
       "6     A. Morin                             Cuba  1315         2014   \n",
       "7     A. Morin                     Sur del Lago  1315         2014   \n",
       "...        ...                              ...   ...          ...   \n",
       "1787    Zotter                    Santo Domingo   879         2012   \n",
       "1788    Zotter                 Kongo, Highlands   883         2012   \n",
       "1790    Zotter                             Peru   647         2011   \n",
       "1792    Zotter                     Kerala State   749         2011   \n",
       "1793    Zotter                     Kerala State   781         2011   \n",
       "\n",
       "      Cocoa_Percent Company_Location  Rating   Broad_Bean_Origin  \n",
       "0              63.0           France    3.75            Sao Tome  \n",
       "3              70.0           France    3.50                Togo  \n",
       "4              70.0           France    3.50                Peru  \n",
       "6              70.0           France    3.50                Cuba  \n",
       "7              70.0           France    3.50           Venezuela  \n",
       "...             ...              ...     ...                 ...  \n",
       "1787           70.0          Austria    3.75  Dominican Republic  \n",
       "1788           68.0          Austria    3.25               Congo  \n",
       "1790           70.0          Austria    3.75                Peru  \n",
       "1792           65.0          Austria    3.50               India  \n",
       "1793           62.0          Austria    3.25               India  \n",
       "\n",
       "[969 rows x 8 columns]"
      ]
     },
     "execution_count": 41,
     "metadata": {},
     "output_type": "execute_result"
    }
   ],
   "source": [
    "rating_3"
   ]
  },
  {
   "cell_type": "code",
   "execution_count": 42,
   "metadata": {},
   "outputs": [
    {
     "data": {
      "text/plain": [
       "Index(['Venezuela', 'Ecuador', 'Peru', 'Madagascar', 'Dominican Republic',\n",
       "       'Brazil'],\n",
       "      dtype='object')"
      ]
     },
     "execution_count": 42,
     "metadata": {},
     "output_type": "execute_result"
    }
   ],
   "source": [
    "top_10_Rating3_B = rating_3.Broad_Bean_Origin.value_counts().index[:6]\n",
    "top_10_Rating3_B"
   ]
  },
  {
   "cell_type": "code",
   "execution_count": 71,
   "metadata": {},
   "outputs": [
    {
     "data": {
      "text/plain": [
       "<AxesSubplot:xlabel='count', ylabel='Broad_Bean_Origin'>"
      ]
     },
     "execution_count": 71,
     "metadata": {},
     "output_type": "execute_result"
    },
    {
     "data": {
      "image/png": "[encoded data removed]",
      "text/plain": [
       "<Figure size 576x360 with 1 Axes>"
      ]
     },
     "metadata": {
      "needs_background": "light"
     },
     "output_type": "display_data"
    }
   ],
   "source": [
    "# 3.0 등급 이상인 초콜릿의 상위 6위 콩 산지\n",
    "# 아프리카에 위치한 마다가스카르를 제외한 나머지 나라들은 다 남아메리카에 위치해 있음.\n",
    "\n",
    "fig, ax = plt.subplots(figsize=(8, 5))\n",
    "\n",
    "sns.countplot(y='Broad_Bean_Origin',\n",
    "              data=(rating_3.assign(\n",
    "                  Broad_Bean_Origin=rating_3.Broad_Bean_Origin.where(rating_3.Broad_Bean_Origin.isin(top_10_Rating3_B)))))"
   ]
  },
  {
   "cell_type": "code",
   "execution_count": 82,
   "metadata": {},
   "outputs": [
    {
     "data": {
      "text/plain": [
       "<seaborn.axisgrid.FacetGrid at 0x2d8280b7670>"
      ]
     },
     "execution_count": 82,
     "metadata": {},
     "output_type": "execute_result"
    },
    {
     "data": {
      "image/png": "[encoded data removed]",
      "text/plain": [
       "<Figure size 936.375x432 with 1 Axes>"
      ]
     },
     "metadata": {
      "needs_background": "light"
     },
     "output_type": "display_data"
    }
   ],
   "source": [
    "# 최근 5년 x축은 콩 산지, y축은 등급별로 한 박스플롯 \n",
    "sns.catplot(\n",
    "    x = 'Broad_Bean_Origin',\n",
    "    y = 'Rating',\n",
    "    data=cacao[mask],\n",
    "    kind='box',\n",
    "    hue='Review_Date', # 이 부분!\n",
    "    hue_order=[2013, 2014, 2015, 2016, 2017],\n",
    "    height=6, aspect=2 #크기조절하는 부분\n",
    ")"
   ]
  },
  {
   "cell_type": "markdown",
   "metadata": {},
   "source": [
    "4. 의미 해석 및 가치 도출\n",
    "\n",
    "4-1. 등급이 3점대 후반인 초콜릿바가 가장 많은 것을 알 수 있다.\n",
    "\n",
    "4-2. 초콜릿바의 등급이 정규분포가 아님을 알 수 있다.\n",
    "\n",
    "4-3. 카카오 함유가 70% 정도 되는 초콜릿바가 가장 많은 것을 알 수 있다.\n",
    "\n",
    "4-4. 연도별 초콜릿바의 가장 높은 등급은 5, 낮은 등급은 3.75이며 평균값은 4.0625이다.\n",
    "\n",
    "4-5. 평점 3이상(만족스러움)인 초콜릿바를 생산한 top6위 나라와 모든 등급 초콜릿바를 많이 생산하는 top6 나라의 목록은 값이 미세하게 차이가 난다. 또한 top6에서 에콰도르가 오스트레일리아로 바뀐 것을 알 수 있다.\n",
    "\n",
    "4-6. 평점 3이상(만족스러움)인 초콜릿바를 생산한 top10위 회사들과 모든 등급의 초콜릿바를 생산한 top10위 회사들의 목록을 보면 일부 회사가 다른 것을 알 수 있다. 즉, 많은 종류의 초콜릿바를 만드는 회사가 높은 등급의 초콜릿바를 만드는 것은 아니다.\n",
    "\n",
    "4-7. 연도별 가장 등급이 높은 초콜릿을 가장 많이 만든 나라는 U.S.A.이다. U.S.A.의 초콜릿바 가공 기술이 뛰어나다고 유추 가능하다.\n",
    "\n",
    "4-8. 3.0 등급 이상인 초콜릿의 상위 6위 콩 산지를 보면 대부분이 남아메리카에 위치해있다. 따라서 품질이 좋은 콩의 산지는 주로 남아메리카에서 생산된다."
   ]
  }
 ],
 "metadata": {
  "kernelspec": {
   "display_name": "Python 3",
   "language": "python",
   "name": "python3"
  },
  "language_info": {
   "codemirror_mode": {
    "name": "ipython",
    "version": 3
   },
   "file_extension": ".py",
   "mimetype": "text/x-python",
   "name": "python",
   "nbconvert_exporter": "python",
   "pygments_lexer": "ipython3",
   "version": "3.8.10"
  }
 },
 "nbformat": 4,
 "nbformat_minor": 4
}
