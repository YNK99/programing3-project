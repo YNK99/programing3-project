{
 "cells": [
  {
   "cell_type": "raw",
   "metadata": {},
   "source": [
    "1. 데이터에 대한 설명\n",
    "\n",
    "초콜릿바 등급에 관한 데이터를 분석했다.\n",
    "\n",
    "각 열에 대한 설명은 다음과 같다.\n",
    "Company \\n(Maker-if known): 초콜릿바를 제조한 회사\n",
    "Specific Bean Origin\\nor Bar Name: 초콜릿바의 원산지\n",
    "REF: 값이 작을수록 오래전에 리뷰가 등록된 것을 뜻함\n",
    "Review\\nDate: 리뷰 게시 연도\n",
    "Cocoa\\nPercent: 초콜릿바의 카카오 함량\n",
    "Company\\nLocation: 초콜릿바를 제조한 회사가 위치한 나라\n",
    "Rating: 초콜릿바 평가 등급(1~5까지 존재)\n",
    "        1: 불쾌함\n",
    "        2: 실망스러움\n",
    "        3~4: 만족스러움~칭찬할만함\n",
    "        4: 프리미엄\n",
    "        5: 엘리트\n",
    "Bean\\nType: 사용된 콩의 품종\n",
    "Broad Bean\\nOrigin: 사용된 콩의 원산지"
   ]
  },
  {
   "cell_type": "raw",
   "metadata": {},
   "source": [
    "2. 데이터 탐색 및 분석 포인트 설명\n",
    "2-1. 초콜릿바 등급 및 카카오 퍼센트의 분포 알아보기\n",
    "2-2. 연도별 가장 등급이 높은 초콜릿와 생산한 회사, 해당 회사의 위치\n",
    "2-3. 초콜릿을 많이 만드는 회사와 3점대 이상인 초콜릿바를 많이 만드는 회사가 비슷한가?\n",
    "2-4. 초콜릿을 많이 만드는 회사가 위치한 나라와 3점대 이상인 초콜릿바를 많이 만드는 회사가 위치한 나라와 비슷한가?"
   ]
  },
  {
   "cell_type": "code",
   "execution_count": 2,
   "metadata": {},
   "outputs": [],
   "source": [
    "# 필요 라이브러리 불러오기\n",
    "import pandas as pd\n",
    "import numpy as np"
   ]
  },
  {
   "cell_type": "code",
   "execution_count": 3,
   "metadata": {},
   "outputs": [
    {
     "data": {
      "text/html": [
       "<div>\n",
       "<style scoped>\n",
       "    .dataframe tbody tr th:only-of-type {\n",
       "        vertical-align: middle;\n",
       "    }\n",
       "\n",
       "    .dataframe tbody tr th {\n",
       "        vertical-align: top;\n",
       "    }\n",
       "\n",
       "    .dataframe thead th {\n",
       "        text-align: right;\n",
       "    }\n",
       "</style>\n",
       "<table border=\"1\" class=\"dataframe\">\n",
       "  <thead>\n",
       "    <tr style=\"text-align: right;\">\n",
       "      <th></th>\n",
       "      <th>Company \\n(Maker-if known)</th>\n",
       "      <th>Specific Bean Origin\\nor Bar Name</th>\n",
       "      <th>REF</th>\n",
       "      <th>Review\\nDate</th>\n",
       "      <th>Cocoa\\nPercent</th>\n",
       "      <th>Company\\nLocation</th>\n",
       "      <th>Rating</th>\n",
       "      <th>Bean\\nType</th>\n",
       "      <th>Broad Bean\\nOrigin</th>\n",
       "    </tr>\n",
       "  </thead>\n",
       "  <tbody>\n",
       "    <tr>\n",
       "      <th>0</th>\n",
       "      <td>A. Morin</td>\n",
       "      <td>Agua Grande</td>\n",
       "      <td>1876</td>\n",
       "      <td>2016</td>\n",
       "      <td>63%</td>\n",
       "      <td>France</td>\n",
       "      <td>3.75</td>\n",
       "      <td></td>\n",
       "      <td>Sao Tome</td>\n",
       "    </tr>\n",
       "    <tr>\n",
       "      <th>1</th>\n",
       "      <td>A. Morin</td>\n",
       "      <td>Kpime</td>\n",
       "      <td>1676</td>\n",
       "      <td>2015</td>\n",
       "      <td>70%</td>\n",
       "      <td>France</td>\n",
       "      <td>2.75</td>\n",
       "      <td></td>\n",
       "      <td>Togo</td>\n",
       "    </tr>\n",
       "    <tr>\n",
       "      <th>2</th>\n",
       "      <td>A. Morin</td>\n",
       "      <td>Atsane</td>\n",
       "      <td>1676</td>\n",
       "      <td>2015</td>\n",
       "      <td>70%</td>\n",
       "      <td>France</td>\n",
       "      <td>3.00</td>\n",
       "      <td></td>\n",
       "      <td>Togo</td>\n",
       "    </tr>\n",
       "    <tr>\n",
       "      <th>3</th>\n",
       "      <td>A. Morin</td>\n",
       "      <td>Akata</td>\n",
       "      <td>1680</td>\n",
       "      <td>2015</td>\n",
       "      <td>70%</td>\n",
       "      <td>France</td>\n",
       "      <td>3.50</td>\n",
       "      <td></td>\n",
       "      <td>Togo</td>\n",
       "    </tr>\n",
       "    <tr>\n",
       "      <th>4</th>\n",
       "      <td>A. Morin</td>\n",
       "      <td>Quilla</td>\n",
       "      <td>1704</td>\n",
       "      <td>2015</td>\n",
       "      <td>70%</td>\n",
       "      <td>France</td>\n",
       "      <td>3.50</td>\n",
       "      <td></td>\n",
       "      <td>Peru</td>\n",
       "    </tr>\n",
       "  </tbody>\n",
       "</table>\n",
       "</div>"
      ],
      "text/plain": [
       "  Company \\n(Maker-if known) Specific Bean Origin\\nor Bar Name   REF  \\\n",
       "0                   A. Morin                       Agua Grande  1876   \n",
       "1                   A. Morin                             Kpime  1676   \n",
       "2                   A. Morin                            Atsane  1676   \n",
       "3                   A. Morin                             Akata  1680   \n",
       "4                   A. Morin                            Quilla  1704   \n",
       "\n",
       "   Review\\nDate Cocoa\\nPercent Company\\nLocation  Rating Bean\\nType  \\\n",
       "0          2016            63%            France    3.75              \n",
       "1          2015            70%            France    2.75              \n",
       "2          2015            70%            France    3.00              \n",
       "3          2015            70%            France    3.50              \n",
       "4          2015            70%            France    3.50              \n",
       "\n",
       "  Broad Bean\\nOrigin  \n",
       "0           Sao Tome  \n",
       "1               Togo  \n",
       "2               Togo  \n",
       "3               Togo  \n",
       "4               Peru  "
      ]
     },
     "execution_count": 3,
     "metadata": {},
     "output_type": "execute_result"
    }
   ],
   "source": [
    "# 데이터 불러오기\n",
    "cacao = pd.read_csv('data/data/flavors_of_cacao.csv')\n",
    "cacao.head()"
   ]
  },
  {
   "cell_type": "code",
   "execution_count": 4,
   "metadata": {},
   "outputs": [],
   "source": [
    "# 보기 쉽게 열 이름 바꿈\n",
    "cacao.columns = ['Company', 'Specific_Bean_Origin_or_Bar_Name', 'REF', 'Review_Date','Cocoa_Percent', 'Company_Location', 'Rating', 'Bean_Type', 'Broad_Bean_Origin']"
   ]
  },
  {
   "cell_type": "code",
   "execution_count": 5,
   "metadata": {},
   "outputs": [
    {
     "data": {
      "text/html": [
       "<div>\n",
       "<style scoped>\n",
       "    .dataframe tbody tr th:only-of-type {\n",
       "        vertical-align: middle;\n",
       "    }\n",
       "\n",
       "    .dataframe tbody tr th {\n",
       "        vertical-align: top;\n",
       "    }\n",
       "\n",
       "    .dataframe thead th {\n",
       "        text-align: right;\n",
       "    }\n",
       "</style>\n",
       "<table border=\"1\" class=\"dataframe\">\n",
       "  <thead>\n",
       "    <tr style=\"text-align: right;\">\n",
       "      <th></th>\n",
       "      <th>Company</th>\n",
       "      <th>Specific_Bean_Origin_or_Bar_Name</th>\n",
       "      <th>REF</th>\n",
       "      <th>Review_Date</th>\n",
       "      <th>Cocoa_Percent</th>\n",
       "      <th>Company_Location</th>\n",
       "      <th>Rating</th>\n",
       "      <th>Bean_Type</th>\n",
       "      <th>Broad_Bean_Origin</th>\n",
       "    </tr>\n",
       "  </thead>\n",
       "  <tbody>\n",
       "    <tr>\n",
       "      <th>0</th>\n",
       "      <td>A. Morin</td>\n",
       "      <td>Agua Grande</td>\n",
       "      <td>1876</td>\n",
       "      <td>2016</td>\n",
       "      <td>63%</td>\n",
       "      <td>France</td>\n",
       "      <td>3.75</td>\n",
       "      <td></td>\n",
       "      <td>Sao Tome</td>\n",
       "    </tr>\n",
       "    <tr>\n",
       "      <th>1</th>\n",
       "      <td>A. Morin</td>\n",
       "      <td>Kpime</td>\n",
       "      <td>1676</td>\n",
       "      <td>2015</td>\n",
       "      <td>70%</td>\n",
       "      <td>France</td>\n",
       "      <td>2.75</td>\n",
       "      <td></td>\n",
       "      <td>Togo</td>\n",
       "    </tr>\n",
       "    <tr>\n",
       "      <th>2</th>\n",
       "      <td>A. Morin</td>\n",
       "      <td>Atsane</td>\n",
       "      <td>1676</td>\n",
       "      <td>2015</td>\n",
       "      <td>70%</td>\n",
       "      <td>France</td>\n",
       "      <td>3.00</td>\n",
       "      <td></td>\n",
       "      <td>Togo</td>\n",
       "    </tr>\n",
       "    <tr>\n",
       "      <th>3</th>\n",
       "      <td>A. Morin</td>\n",
       "      <td>Akata</td>\n",
       "      <td>1680</td>\n",
       "      <td>2015</td>\n",
       "      <td>70%</td>\n",
       "      <td>France</td>\n",
       "      <td>3.50</td>\n",
       "      <td></td>\n",
       "      <td>Togo</td>\n",
       "    </tr>\n",
       "    <tr>\n",
       "      <th>4</th>\n",
       "      <td>A. Morin</td>\n",
       "      <td>Quilla</td>\n",
       "      <td>1704</td>\n",
       "      <td>2015</td>\n",
       "      <td>70%</td>\n",
       "      <td>France</td>\n",
       "      <td>3.50</td>\n",
       "      <td></td>\n",
       "      <td>Peru</td>\n",
       "    </tr>\n",
       "  </tbody>\n",
       "</table>\n",
       "</div>"
      ],
      "text/plain": [
       "    Company Specific_Bean_Origin_or_Bar_Name   REF  Review_Date Cocoa_Percent  \\\n",
       "0  A. Morin                      Agua Grande  1876         2016           63%   \n",
       "1  A. Morin                            Kpime  1676         2015           70%   \n",
       "2  A. Morin                           Atsane  1676         2015           70%   \n",
       "3  A. Morin                            Akata  1680         2015           70%   \n",
       "4  A. Morin                           Quilla  1704         2015           70%   \n",
       "\n",
       "  Company_Location  Rating Bean_Type Broad_Bean_Origin  \n",
       "0           France    3.75                    Sao Tome  \n",
       "1           France    2.75                        Togo  \n",
       "2           France    3.00                        Togo  \n",
       "3           France    3.50                        Togo  \n",
       "4           France    3.50                        Peru  "
      ]
     },
     "execution_count": 5,
     "metadata": {},
     "output_type": "execute_result"
    }
   ],
   "source": [
    "cacao.head()"
   ]
  },
  {
   "cell_type": "raw",
   "metadata": {},
   "source": [
    "분석 포인트 설명"
   ]
  },
  {
   "cell_type": "raw",
   "metadata": {},
   "source": [
    "3. 데이터 분석 (전처리 및 정제, 시각화 등을 활용)"
   ]
  },
  {
   "cell_type": "code",
   "execution_count": 6,
   "metadata": {},
   "outputs": [
    {
     "name": "stdout",
     "output_type": "stream",
     "text": [
      "<class 'pandas.core.frame.DataFrame'>\n",
      "RangeIndex: 1795 entries, 0 to 1794\n",
      "Data columns (total 9 columns):\n",
      " #   Column                            Non-Null Count  Dtype  \n",
      "---  ------                            --------------  -----  \n",
      " 0   Company                           1795 non-null   object \n",
      " 1   Specific_Bean_Origin_or_Bar_Name  1795 non-null   object \n",
      " 2   REF                               1795 non-null   int64  \n",
      " 3   Review_Date                       1795 non-null   int64  \n",
      " 4   Cocoa_Percent                     1795 non-null   object \n",
      " 5   Company_Location                  1795 non-null   object \n",
      " 6   Rating                            1795 non-null   float64\n",
      " 7   Bean_Type                         1794 non-null   object \n",
      " 8   Broad_Bean_Origin                 1794 non-null   object \n",
      "dtypes: float64(1), int64(2), object(6)\n",
      "memory usage: 126.3+ KB\n"
     ]
    }
   ],
   "source": [
    "cacao.info()"
   ]
  },
  {
   "cell_type": "code",
   "execution_count": 7,
   "metadata": {},
   "outputs": [
    {
     "data": {
      "text/html": [
       "<div>\n",
       "<style scoped>\n",
       "    .dataframe tbody tr th:only-of-type {\n",
       "        vertical-align: middle;\n",
       "    }\n",
       "\n",
       "    .dataframe tbody tr th {\n",
       "        vertical-align: top;\n",
       "    }\n",
       "\n",
       "    .dataframe thead th {\n",
       "        text-align: right;\n",
       "    }\n",
       "</style>\n",
       "<table border=\"1\" class=\"dataframe\">\n",
       "  <thead>\n",
       "    <tr style=\"text-align: right;\">\n",
       "      <th></th>\n",
       "      <th>count</th>\n",
       "      <th>mean</th>\n",
       "      <th>std</th>\n",
       "      <th>min</th>\n",
       "      <th>25%</th>\n",
       "      <th>50%</th>\n",
       "      <th>75%</th>\n",
       "      <th>max</th>\n",
       "    </tr>\n",
       "  </thead>\n",
       "  <tbody>\n",
       "    <tr>\n",
       "      <th>REF</th>\n",
       "      <td>1795.0</td>\n",
       "      <td>1035.904735</td>\n",
       "      <td>552.886365</td>\n",
       "      <td>5.0</td>\n",
       "      <td>576.000</td>\n",
       "      <td>1069.00</td>\n",
       "      <td>1502.0</td>\n",
       "      <td>1952.0</td>\n",
       "    </tr>\n",
       "    <tr>\n",
       "      <th>Review_Date</th>\n",
       "      <td>1795.0</td>\n",
       "      <td>2012.325348</td>\n",
       "      <td>2.927210</td>\n",
       "      <td>2006.0</td>\n",
       "      <td>2010.000</td>\n",
       "      <td>2013.00</td>\n",
       "      <td>2015.0</td>\n",
       "      <td>2017.0</td>\n",
       "    </tr>\n",
       "    <tr>\n",
       "      <th>Rating</th>\n",
       "      <td>1795.0</td>\n",
       "      <td>3.185933</td>\n",
       "      <td>0.478062</td>\n",
       "      <td>1.0</td>\n",
       "      <td>2.875</td>\n",
       "      <td>3.25</td>\n",
       "      <td>3.5</td>\n",
       "      <td>5.0</td>\n",
       "    </tr>\n",
       "  </tbody>\n",
       "</table>\n",
       "</div>"
      ],
      "text/plain": [
       "              count         mean         std     min       25%      50%  \\\n",
       "REF          1795.0  1035.904735  552.886365     5.0   576.000  1069.00   \n",
       "Review_Date  1795.0  2012.325348    2.927210  2006.0  2010.000  2013.00   \n",
       "Rating       1795.0     3.185933    0.478062     1.0     2.875     3.25   \n",
       "\n",
       "                75%     max  \n",
       "REF          1502.0  1952.0  \n",
       "Review_Date  2015.0  2017.0  \n",
       "Rating          3.5     5.0  "
      ]
     },
     "execution_count": 7,
     "metadata": {},
     "output_type": "execute_result"
    }
   ],
   "source": [
    "# 기술통계\n",
    "cacao.describe().T"
   ]
  },
  {
   "cell_type": "code",
   "execution_count": 8,
   "metadata": {},
   "outputs": [
    {
     "data": {
      "text/plain": [
       "Company                             0\n",
       "Specific_Bean_Origin_or_Bar_Name    0\n",
       "REF                                 0\n",
       "Review_Date                         0\n",
       "Cocoa_Percent                       0\n",
       "Company_Location                    0\n",
       "Rating                              0\n",
       "Bean_Type                           1\n",
       "Broad_Bean_Origin                   1\n",
       "dtype: int64"
      ]
     },
     "execution_count": 8,
     "metadata": {},
     "output_type": "execute_result"
    }
   ],
   "source": [
    "# 결측치 확인\n",
    "cacao.isnull().sum()"
   ]
  },
  {
   "cell_type": "code",
   "execution_count": 9,
   "metadata": {},
   "outputs": [],
   "source": [
    "# 결측치 삭제\n",
    "cacao = cacao.dropna()"
   ]
  },
  {
   "cell_type": "code",
   "execution_count": 10,
   "metadata": {},
   "outputs": [
    {
     "data": {
      "text/plain": [
       "     887\n",
       "dtype: int64"
      ]
     },
     "execution_count": 10,
     "metadata": {},
     "output_type": "execute_result"
    }
   ],
   "source": [
    "# 시작이 공백인 Bean_Type의 요소의 합. 즉 Bean_Type의 결측치가 887개임을 뜻함\n",
    "(\n",
    " cacao.Bean_Type.str.extract(r'(^\\s)')\n",
    " .value_counts()\n",
    ")"
   ]
  },
  {
   "cell_type": "code",
   "execution_count": 11,
   "metadata": {},
   "outputs": [],
   "source": [
    "# 숫자 형태면 fillna로 0이나 평균값으로 채워넣을 수 있으나 오브젝트형이므로 열 자체 삭제 결정\n",
    "cacao = cacao.drop(columns = 'Bean_Type')"
   ]
  },
  {
   "cell_type": "code",
   "execution_count": 12,
   "metadata": {},
   "outputs": [
    {
     "data": {
      "text/html": [
       "<div>\n",
       "<style scoped>\n",
       "    .dataframe tbody tr th:only-of-type {\n",
       "        vertical-align: middle;\n",
       "    }\n",
       "\n",
       "    .dataframe tbody tr th {\n",
       "        vertical-align: top;\n",
       "    }\n",
       "\n",
       "    .dataframe thead th {\n",
       "        text-align: right;\n",
       "    }\n",
       "</style>\n",
       "<table border=\"1\" class=\"dataframe\">\n",
       "  <thead>\n",
       "    <tr style=\"text-align: right;\">\n",
       "      <th></th>\n",
       "      <th>Company</th>\n",
       "      <th>Specific_Bean_Origin_or_Bar_Name</th>\n",
       "      <th>REF</th>\n",
       "      <th>Review_Date</th>\n",
       "      <th>Cocoa_Percent</th>\n",
       "      <th>Company_Location</th>\n",
       "      <th>Rating</th>\n",
       "      <th>Broad_Bean_Origin</th>\n",
       "    </tr>\n",
       "  </thead>\n",
       "  <tbody>\n",
       "    <tr>\n",
       "      <th>0</th>\n",
       "      <td>A. Morin</td>\n",
       "      <td>Agua Grande</td>\n",
       "      <td>1876</td>\n",
       "      <td>2016</td>\n",
       "      <td>63%</td>\n",
       "      <td>France</td>\n",
       "      <td>3.75</td>\n",
       "      <td>Sao Tome</td>\n",
       "    </tr>\n",
       "    <tr>\n",
       "      <th>1</th>\n",
       "      <td>A. Morin</td>\n",
       "      <td>Kpime</td>\n",
       "      <td>1676</td>\n",
       "      <td>2015</td>\n",
       "      <td>70%</td>\n",
       "      <td>France</td>\n",
       "      <td>2.75</td>\n",
       "      <td>Togo</td>\n",
       "    </tr>\n",
       "    <tr>\n",
       "      <th>2</th>\n",
       "      <td>A. Morin</td>\n",
       "      <td>Atsane</td>\n",
       "      <td>1676</td>\n",
       "      <td>2015</td>\n",
       "      <td>70%</td>\n",
       "      <td>France</td>\n",
       "      <td>3.00</td>\n",
       "      <td>Togo</td>\n",
       "    </tr>\n",
       "    <tr>\n",
       "      <th>3</th>\n",
       "      <td>A. Morin</td>\n",
       "      <td>Akata</td>\n",
       "      <td>1680</td>\n",
       "      <td>2015</td>\n",
       "      <td>70%</td>\n",
       "      <td>France</td>\n",
       "      <td>3.50</td>\n",
       "      <td>Togo</td>\n",
       "    </tr>\n",
       "    <tr>\n",
       "      <th>4</th>\n",
       "      <td>A. Morin</td>\n",
       "      <td>Quilla</td>\n",
       "      <td>1704</td>\n",
       "      <td>2015</td>\n",
       "      <td>70%</td>\n",
       "      <td>France</td>\n",
       "      <td>3.50</td>\n",
       "      <td>Peru</td>\n",
       "    </tr>\n",
       "    <tr>\n",
       "      <th>...</th>\n",
       "      <td>...</td>\n",
       "      <td>...</td>\n",
       "      <td>...</td>\n",
       "      <td>...</td>\n",
       "      <td>...</td>\n",
       "      <td>...</td>\n",
       "      <td>...</td>\n",
       "      <td>...</td>\n",
       "    </tr>\n",
       "    <tr>\n",
       "      <th>1790</th>\n",
       "      <td>Zotter</td>\n",
       "      <td>Peru</td>\n",
       "      <td>647</td>\n",
       "      <td>2011</td>\n",
       "      <td>70%</td>\n",
       "      <td>Austria</td>\n",
       "      <td>3.75</td>\n",
       "      <td>Peru</td>\n",
       "    </tr>\n",
       "    <tr>\n",
       "      <th>1791</th>\n",
       "      <td>Zotter</td>\n",
       "      <td>Congo</td>\n",
       "      <td>749</td>\n",
       "      <td>2011</td>\n",
       "      <td>65%</td>\n",
       "      <td>Austria</td>\n",
       "      <td>3.00</td>\n",
       "      <td>Congo</td>\n",
       "    </tr>\n",
       "    <tr>\n",
       "      <th>1792</th>\n",
       "      <td>Zotter</td>\n",
       "      <td>Kerala State</td>\n",
       "      <td>749</td>\n",
       "      <td>2011</td>\n",
       "      <td>65%</td>\n",
       "      <td>Austria</td>\n",
       "      <td>3.50</td>\n",
       "      <td>India</td>\n",
       "    </tr>\n",
       "    <tr>\n",
       "      <th>1793</th>\n",
       "      <td>Zotter</td>\n",
       "      <td>Kerala State</td>\n",
       "      <td>781</td>\n",
       "      <td>2011</td>\n",
       "      <td>62%</td>\n",
       "      <td>Austria</td>\n",
       "      <td>3.25</td>\n",
       "      <td>India</td>\n",
       "    </tr>\n",
       "    <tr>\n",
       "      <th>1794</th>\n",
       "      <td>Zotter</td>\n",
       "      <td>Brazil, Mitzi Blue</td>\n",
       "      <td>486</td>\n",
       "      <td>2010</td>\n",
       "      <td>65%</td>\n",
       "      <td>Austria</td>\n",
       "      <td>3.00</td>\n",
       "      <td>Brazil</td>\n",
       "    </tr>\n",
       "  </tbody>\n",
       "</table>\n",
       "<p>1793 rows × 8 columns</p>\n",
       "</div>"
      ],
      "text/plain": [
       "       Company Specific_Bean_Origin_or_Bar_Name   REF  Review_Date  \\\n",
       "0     A. Morin                      Agua Grande  1876         2016   \n",
       "1     A. Morin                            Kpime  1676         2015   \n",
       "2     A. Morin                           Atsane  1676         2015   \n",
       "3     A. Morin                            Akata  1680         2015   \n",
       "4     A. Morin                           Quilla  1704         2015   \n",
       "...        ...                              ...   ...          ...   \n",
       "1790    Zotter                             Peru   647         2011   \n",
       "1791    Zotter                            Congo   749         2011   \n",
       "1792    Zotter                     Kerala State   749         2011   \n",
       "1793    Zotter                     Kerala State   781         2011   \n",
       "1794    Zotter               Brazil, Mitzi Blue   486         2010   \n",
       "\n",
       "     Cocoa_Percent Company_Location  Rating Broad_Bean_Origin  \n",
       "0              63%           France    3.75          Sao Tome  \n",
       "1              70%           France    2.75              Togo  \n",
       "2              70%           France    3.00              Togo  \n",
       "3              70%           France    3.50              Togo  \n",
       "4              70%           France    3.50              Peru  \n",
       "...            ...              ...     ...               ...  \n",
       "1790           70%          Austria    3.75              Peru  \n",
       "1791           65%          Austria    3.00             Congo  \n",
       "1792           65%          Austria    3.50             India  \n",
       "1793           62%          Austria    3.25             India  \n",
       "1794           65%          Austria    3.00            Brazil  \n",
       "\n",
       "[1793 rows x 8 columns]"
      ]
     },
     "execution_count": 12,
     "metadata": {},
     "output_type": "execute_result"
    }
   ],
   "source": [
    "cacao"
   ]
  },
  {
   "cell_type": "code",
   "execution_count": 13,
   "metadata": {},
   "outputs": [
    {
     "data": {
      "text/plain": [
       "<AxesSubplot:ylabel='Frequency'>"
      ]
     },
     "execution_count": 13,
     "metadata": {},
     "output_type": "execute_result"
    },
    {
     "data": {
      "image/png": "[encoded data removed]",
      "text/plain": [
       "<Figure size 720x576 with 1 Axes>"
      ]
     },
     "metadata": {
      "needs_background": "light"
     },
     "output_type": "display_data"
    }
   ],
   "source": [
    "# 초콜릿바 등급의 히스토그램을 그림\n",
    "# 등급 분포 확인\n",
    "import matplotlib.pyplot as plt\n",
    "\n",
    "fig, ax = plt.subplots(figsize=(10, 8))\n",
    "cacao.Rating.plot.hist(ax = ax, bins = 15)"
   ]
  },
  {
   "cell_type": "code",
   "execution_count": 14,
   "metadata": {},
   "outputs": [
    {
     "data": {
      "text/plain": [
       "KstestResult(statistic=0.9677685518220382, pvalue=0.0)"
      ]
     },
     "execution_count": 14,
     "metadata": {},
     "output_type": "execute_result"
    }
   ],
   "source": [
    "from scipy import stats\n",
    "stats.kstest(cacao.Rating, cdf='norm')\n",
    "# 초콜릿바의 등급이 정규분포가 아님을 알 수 있음"
   ]
  },
  {
   "cell_type": "code",
   "execution_count": 15,
   "metadata": {},
   "outputs": [],
   "source": [
    "# 카카오 퍼센트에서 % 기호 빼고 데이터 타입 float으로 변환\n",
    "\n",
    "cacao.Cocoa_Percent = (\n",
    "    cacao.Cocoa_Percent\n",
    "    .str.replace('%', '')\n",
    "    .astype(float)\n",
    ")"
   ]
  },
  {
   "cell_type": "code",
   "execution_count": 16,
   "metadata": {},
   "outputs": [
    {
     "data": {
      "text/plain": [
       "<AxesSubplot:ylabel='Frequency'>"
      ]
     },
     "execution_count": 16,
     "metadata": {},
     "output_type": "execute_result"
    },
    {
     "data": {
      "image/png": "[encoded data removed]",
      "text/plain": [
       "<Figure size 720x576 with 1 Axes>"
      ]
     },
     "metadata": {
      "needs_background": "light"
     },
     "output_type": "display_data"
    }
   ],
   "source": [
    "import matplotlib.pyplot as plt\n",
    "\n",
    "fig, ax = plt.subplots(figsize=(10, 8))\n",
    "cacao.Cocoa_Percent.plot.hist(ax = ax, bins = 30)"
   ]
  },
  {
   "cell_type": "code",
   "execution_count": 17,
   "metadata": {},
   "outputs": [
    {
     "data": {
      "text/plain": [
       "{'Amsterdam',\n",
       " 'Argentina',\n",
       " 'Australia',\n",
       " 'Austria',\n",
       " 'Belgium',\n",
       " 'Bolivia',\n",
       " 'Brazil',\n",
       " 'Canada',\n",
       " 'Chile',\n",
       " 'Colombia',\n",
       " 'Costa Rica',\n",
       " 'Czech Republic',\n",
       " 'Denmark',\n",
       " 'Domincan Republic',\n",
       " 'Ecuador',\n",
       " 'Eucador',\n",
       " 'Fiji',\n",
       " 'Finland',\n",
       " 'France',\n",
       " 'Germany',\n",
       " 'Ghana',\n",
       " 'Grenada',\n",
       " 'Guatemala',\n",
       " 'Honduras',\n",
       " 'Hungary',\n",
       " 'Iceland',\n",
       " 'India',\n",
       " 'Ireland',\n",
       " 'Israel',\n",
       " 'Italy',\n",
       " 'Japan',\n",
       " 'Lithuania',\n",
       " 'Madagascar',\n",
       " 'Martinique',\n",
       " 'Mexico',\n",
       " 'Netherlands',\n",
       " 'New Zealand',\n",
       " 'Niacragua',\n",
       " 'Nicaragua',\n",
       " 'Peru',\n",
       " 'Philippines',\n",
       " 'Poland',\n",
       " 'Portugal',\n",
       " 'Puerto Rico',\n",
       " 'Russia',\n",
       " 'Sao Tome',\n",
       " 'Scotland',\n",
       " 'Singapore',\n",
       " 'South Africa',\n",
       " 'South Korea',\n",
       " 'Spain',\n",
       " 'St. Lucia',\n",
       " 'Suriname',\n",
       " 'Sweden',\n",
       " 'Switzerland',\n",
       " 'U.K.',\n",
       " 'U.S.A.',\n",
       " 'Venezuela',\n",
       " 'Vietnam',\n",
       " 'Wales'}"
      ]
     },
     "execution_count": 17,
     "metadata": {},
     "output_type": "execute_result"
    }
   ],
   "source": [
    "# 변수 요소들이 많은 것을 알 수 있음\n",
    "# 상위 몇 개만 시각화\n",
    "set(cacao.Company_Location)"
   ]
  },
  {
   "cell_type": "code",
   "execution_count": 26,
   "metadata": {},
   "outputs": [
    {
     "data": {
      "text/html": [
       "<div>\n",
       "<style scoped>\n",
       "    .dataframe tbody tr th:only-of-type {\n",
       "        vertical-align: middle;\n",
       "    }\n",
       "\n",
       "    .dataframe tbody tr th {\n",
       "        vertical-align: top;\n",
       "    }\n",
       "\n",
       "    .dataframe thead th {\n",
       "        text-align: right;\n",
       "    }\n",
       "</style>\n",
       "<table border=\"1\" class=\"dataframe\">\n",
       "  <thead>\n",
       "    <tr style=\"text-align: right;\">\n",
       "      <th></th>\n",
       "      <th>Review_Date</th>\n",
       "      <th>Rating</th>\n",
       "      <th>Company</th>\n",
       "      <th>Company_Location</th>\n",
       "    </tr>\n",
       "  </thead>\n",
       "  <tbody>\n",
       "    <tr>\n",
       "      <th>86</th>\n",
       "      <td>2006</td>\n",
       "      <td>5.00</td>\n",
       "      <td>Amedei</td>\n",
       "      <td>Italy</td>\n",
       "    </tr>\n",
       "    <tr>\n",
       "      <th>78</th>\n",
       "      <td>2007</td>\n",
       "      <td>5.00</td>\n",
       "      <td>Amedei</td>\n",
       "      <td>Italy</td>\n",
       "    </tr>\n",
       "    <tr>\n",
       "      <th>239</th>\n",
       "      <td>2008</td>\n",
       "      <td>4.00</td>\n",
       "      <td>Bonnat</td>\n",
       "      <td>France</td>\n",
       "    </tr>\n",
       "    <tr>\n",
       "      <th>315</th>\n",
       "      <td>2009</td>\n",
       "      <td>4.00</td>\n",
       "      <td>Cacao Sampaka</td>\n",
       "      <td>Spain</td>\n",
       "    </tr>\n",
       "    <tr>\n",
       "      <th>56</th>\n",
       "      <td>2010</td>\n",
       "      <td>4.00</td>\n",
       "      <td>Amano</td>\n",
       "      <td>U.S.A.</td>\n",
       "    </tr>\n",
       "    <tr>\n",
       "      <th>54</th>\n",
       "      <td>2011</td>\n",
       "      <td>4.00</td>\n",
       "      <td>Amano</td>\n",
       "      <td>U.S.A.</td>\n",
       "    </tr>\n",
       "    <tr>\n",
       "      <th>502</th>\n",
       "      <td>2012</td>\n",
       "      <td>4.00</td>\n",
       "      <td>Danta</td>\n",
       "      <td>Guatemala</td>\n",
       "    </tr>\n",
       "    <tr>\n",
       "      <th>17</th>\n",
       "      <td>2013</td>\n",
       "      <td>4.00</td>\n",
       "      <td>A. Morin</td>\n",
       "      <td>France</td>\n",
       "    </tr>\n",
       "    <tr>\n",
       "      <th>9</th>\n",
       "      <td>2014</td>\n",
       "      <td>4.00</td>\n",
       "      <td>A. Morin</td>\n",
       "      <td>France</td>\n",
       "    </tr>\n",
       "    <tr>\n",
       "      <th>117</th>\n",
       "      <td>2015</td>\n",
       "      <td>4.00</td>\n",
       "      <td>Arete</td>\n",
       "      <td>U.S.A.</td>\n",
       "    </tr>\n",
       "    <tr>\n",
       "      <th>107</th>\n",
       "      <td>2016</td>\n",
       "      <td>4.00</td>\n",
       "      <td>Arete</td>\n",
       "      <td>U.S.A.</td>\n",
       "    </tr>\n",
       "    <tr>\n",
       "      <th>535</th>\n",
       "      <td>2017</td>\n",
       "      <td>3.75</td>\n",
       "      <td>Dick Taylor</td>\n",
       "      <td>U.S.A.</td>\n",
       "    </tr>\n",
       "  </tbody>\n",
       "</table>\n",
       "</div>"
      ],
      "text/plain": [
       "     Review_Date  Rating        Company Company_Location\n",
       "86          2006    5.00         Amedei            Italy\n",
       "78          2007    5.00         Amedei            Italy\n",
       "239         2008    4.00         Bonnat           France\n",
       "315         2009    4.00  Cacao Sampaka            Spain\n",
       "56          2010    4.00          Amano           U.S.A.\n",
       "54          2011    4.00          Amano           U.S.A.\n",
       "502         2012    4.00          Danta        Guatemala\n",
       "17          2013    4.00       A. Morin           France\n",
       "9           2014    4.00       A. Morin           France\n",
       "117         2015    4.00          Arete           U.S.A.\n",
       "107         2016    4.00          Arete           U.S.A.\n",
       "535         2017    3.75    Dick Taylor           U.S.A."
      ]
     },
     "execution_count": 26,
     "metadata": {},
     "output_type": "execute_result"
    }
   ],
   "source": [
    "# 연도별 가장 등급이 높은 초콜릿바\n",
    "(\n",
    "    cacao[['Review_Date', 'Rating', \"Company\",\"Company_Location\"]]\n",
    "    .sort_values(['Review_Date', 'Rating'], ascending=[True, False])\n",
    "    .drop_duplicates(subset='Review_Date')\n",
    ")"
   ]
  },
  {
   "cell_type": "code",
   "execution_count": 487,
   "metadata": {},
   "outputs": [
    {
     "data": {
      "text/plain": [
       "<AxesSubplot:xlabel='count', ylabel='Company'>"
      ]
     },
     "execution_count": 487,
     "metadata": {},
     "output_type": "execute_result"
    },
    {
     "data": {
      "image/png": "[encoded data removed]",
      "text/plain": [
       "<Figure size 720x576 with 1 Axes>"
      ]
     },
     "metadata": {
      "needs_background": "light"
     },
     "output_type": "display_data"
    }
   ],
   "source": [
    "# 초콜릿을 가장 많이 만드는 회사(top10가 아닌 회사는 other로 분류)\n",
    "# other이 너무 많아서 시각화가 잘 되지 않음\n",
    "\n",
    "import seaborn as sns\n",
    "\n",
    "fig, ax = plt.subplots(figsize=(10, 8))\n",
    "sns.countplot(y='Company',\n",
    "              data=(cacao.assign(\n",
    "                  Company=cacao.Company.where(cacao.Company.isin(top_10_company), 'Other'))\n",
    "                   )\n",
    "             )"
   ]
  },
  {
   "cell_type": "code",
   "execution_count": 488,
   "metadata": {},
   "outputs": [
    {
     "data": {
      "text/html": [
       "<div>\n",
       "<style scoped>\n",
       "    .dataframe tbody tr th:only-of-type {\n",
       "        vertical-align: middle;\n",
       "    }\n",
       "\n",
       "    .dataframe tbody tr th {\n",
       "        vertical-align: top;\n",
       "    }\n",
       "\n",
       "    .dataframe thead th {\n",
       "        text-align: right;\n",
       "    }\n",
       "</style>\n",
       "<table border=\"1\" class=\"dataframe\">\n",
       "  <thead>\n",
       "    <tr style=\"text-align: right;\">\n",
       "      <th></th>\n",
       "      <th>Company</th>\n",
       "      <th>Specific_Bean_Origin_or_Bar_Name</th>\n",
       "      <th>REF</th>\n",
       "      <th>Review_Date</th>\n",
       "      <th>Cocoa_Percent</th>\n",
       "      <th>Company_Location</th>\n",
       "      <th>Rating</th>\n",
       "      <th>Broad_Bean_Origin</th>\n",
       "    </tr>\n",
       "  </thead>\n",
       "  <tbody>\n",
       "    <tr>\n",
       "      <th>0</th>\n",
       "      <td>A. Morin</td>\n",
       "      <td>Agua Grande</td>\n",
       "      <td>1876</td>\n",
       "      <td>2016</td>\n",
       "      <td>63.0</td>\n",
       "      <td>France</td>\n",
       "      <td>3.75</td>\n",
       "      <td>Sao Tome</td>\n",
       "    </tr>\n",
       "    <tr>\n",
       "      <th>3</th>\n",
       "      <td>A. Morin</td>\n",
       "      <td>Akata</td>\n",
       "      <td>1680</td>\n",
       "      <td>2015</td>\n",
       "      <td>70.0</td>\n",
       "      <td>France</td>\n",
       "      <td>3.50</td>\n",
       "      <td>Togo</td>\n",
       "    </tr>\n",
       "    <tr>\n",
       "      <th>4</th>\n",
       "      <td>A. Morin</td>\n",
       "      <td>Quilla</td>\n",
       "      <td>1704</td>\n",
       "      <td>2015</td>\n",
       "      <td>70.0</td>\n",
       "      <td>France</td>\n",
       "      <td>3.50</td>\n",
       "      <td>Peru</td>\n",
       "    </tr>\n",
       "    <tr>\n",
       "      <th>6</th>\n",
       "      <td>A. Morin</td>\n",
       "      <td>Cuba</td>\n",
       "      <td>1315</td>\n",
       "      <td>2014</td>\n",
       "      <td>70.0</td>\n",
       "      <td>France</td>\n",
       "      <td>3.50</td>\n",
       "      <td>Cuba</td>\n",
       "    </tr>\n",
       "    <tr>\n",
       "      <th>7</th>\n",
       "      <td>A. Morin</td>\n",
       "      <td>Sur del Lago</td>\n",
       "      <td>1315</td>\n",
       "      <td>2014</td>\n",
       "      <td>70.0</td>\n",
       "      <td>France</td>\n",
       "      <td>3.50</td>\n",
       "      <td>Venezuela</td>\n",
       "    </tr>\n",
       "  </tbody>\n",
       "</table>\n",
       "</div>"
      ],
      "text/plain": [
       "    Company Specific_Bean_Origin_or_Bar_Name   REF  Review_Date  \\\n",
       "0  A. Morin                      Agua Grande  1876         2016   \n",
       "3  A. Morin                            Akata  1680         2015   \n",
       "4  A. Morin                           Quilla  1704         2015   \n",
       "6  A. Morin                             Cuba  1315         2014   \n",
       "7  A. Morin                     Sur del Lago  1315         2014   \n",
       "\n",
       "   Cocoa_Percent Company_Location  Rating Broad_Bean_Origin  \n",
       "0           63.0           France    3.75          Sao Tome  \n",
       "3           70.0           France    3.50              Togo  \n",
       "4           70.0           France    3.50              Peru  \n",
       "6           70.0           France    3.50              Cuba  \n",
       "7           70.0           France    3.50         Venezuela  "
      ]
     },
     "execution_count": 488,
     "metadata": {},
     "output_type": "execute_result"
    }
   ],
   "source": [
    "# 초콜릿 등급이 3보다 높은 것만\n",
    "\n",
    "rating = (cacao.Rating > 3)\n",
    "rating_3 = cacao[rating]\n",
    "rating_3.head()"
   ]
  },
  {
   "cell_type": "code",
   "execution_count": 494,
   "metadata": {},
   "outputs": [
    {
     "data": {
      "text/plain": [
       "Index(['U.S.A.', 'France', 'Canada', 'U.K.', 'Italy', 'Ecuador'], dtype='object')"
      ]
     },
     "execution_count": 494,
     "metadata": {},
     "output_type": "execute_result"
    }
   ],
   "source": [
    "top_6_company_CL = cacao.Company_Location.value_counts().index[:6]\n",
    "top_6_company_CL"
   ]
  },
  {
   "cell_type": "code",
   "execution_count": 495,
   "metadata": {},
   "outputs": [
    {
     "data": {
      "text/plain": [
       "U.S.A.               763\n",
       "France               156\n",
       "Canada               124\n",
       "U.K.                  96\n",
       "Italy                 63\n",
       "Ecuador               54\n",
       "Australia             49\n",
       "Belgium               40\n",
       "Switzerland           38\n",
       "Germany               35\n",
       "Austria               26\n",
       "Spain                 25\n",
       "Colombia              23\n",
       "Hungary               22\n",
       "Venezuela             20\n",
       "Japan                 17\n",
       "New Zealand           17\n",
       "Brazil                17\n",
       "Peru                  17\n",
       "Madagascar            17\n",
       "Denmark               15\n",
       "Vietnam               11\n",
       "Guatemala             10\n",
       "Scotland              10\n",
       "Costa Rica             9\n",
       "Argentina              9\n",
       "Israel                 9\n",
       "Poland                 8\n",
       "Lithuania              6\n",
       "Honduras               6\n",
       "South Korea            5\n",
       "Sweden                 5\n",
       "Nicaragua              5\n",
       "Domincan Republic      5\n",
       "Ireland                4\n",
       "Netherlands            4\n",
       "Puerto Rico            4\n",
       "Mexico                 4\n",
       "Sao Tome               4\n",
       "Amsterdam              4\n",
       "Fiji                   4\n",
       "Iceland                3\n",
       "South Africa           3\n",
       "Grenada                3\n",
       "Portugal               3\n",
       "Singapore              3\n",
       "St. Lucia              2\n",
       "Chile                  2\n",
       "Finland                2\n",
       "Bolivia                2\n",
       "India                  1\n",
       "Philippines            1\n",
       "Martinique             1\n",
       "Czech Republic         1\n",
       "Ghana                  1\n",
       "Russia                 1\n",
       "Wales                  1\n",
       "Niacragua              1\n",
       "Eucador                1\n",
       "Suriname               1\n",
       "Name: Company_Location, dtype: int64"
      ]
     },
     "execution_count": 495,
     "metadata": {},
     "output_type": "execute_result"
    }
   ],
   "source": [
    " cacao.Company_Location.value_counts()"
   ]
  },
  {
   "cell_type": "code",
   "execution_count": 496,
   "metadata": {},
   "outputs": [
    {
     "data": {
      "text/plain": [
       "<AxesSubplot:xlabel='count', ylabel='Company_Location'>"
      ]
     },
     "execution_count": 496,
     "metadata": {},
     "output_type": "execute_result"
    },
    {
     "data": {
      "image/png": "[encoded data removed]",
      "text/plain": [
       "<Figure size 720x576 with 1 Axes>"
      ]
     },
     "metadata": {
      "needs_background": "light"
     },
     "output_type": "display_data"
    }
   ],
   "source": [
    "# 초콜릿을 만드는 회사의 위치는 U.S.A가 가장 많은 것을 알 수 있음\n",
    "\n",
    "import seaborn as sns\n",
    "\n",
    "fig, ax = plt.subplots(figsize=(10, 8))\n",
    "sns.countplot(y='Company_Location',\n",
    "              data=(cacao.assign(\n",
    "                  Company_Location=cacao.Company_Location.where(cacao.Company_Location.isin(top_6_company_CL)))))"
   ]
  },
  {
   "cell_type": "code",
   "execution_count": 497,
   "metadata": {},
   "outputs": [
    {
     "data": {
      "text/plain": [
       "Index(['U.S.A.', 'France', 'Canada', 'U.K.', 'Italy', 'Australia'], dtype='object')"
      ]
     },
     "execution_count": 497,
     "metadata": {},
     "output_type": "execute_result"
    }
   ],
   "source": [
    "# 평점 3이상(만족스러움)인 초콜릿바를 생산한 top6위 회사들\n",
    "top_6_Rating3_CL = rating_3.Company_Location.value_counts().index[:6]\n",
    "top_6_Rating3_CL"
   ]
  },
  {
   "cell_type": "code",
   "execution_count": 498,
   "metadata": {},
   "outputs": [
    {
     "data": {
      "text/plain": [
       "<AxesSubplot:xlabel='count', ylabel='Company_Location'>"
      ]
     },
     "execution_count": 498,
     "metadata": {},
     "output_type": "execute_result"
    },
    {
     "data": {
      "image/png": "[encoded data removed]",
      "text/plain": [
       "<Figure size 720x576 with 1 Axes>"
      ]
     },
     "metadata": {
      "needs_background": "light"
     },
     "output_type": "display_data"
    }
   ],
   "source": [
    "fig, ax = plt.subplots(figsize=(10, 8))\n",
    "sns.countplot(y='Company_Location',\n",
    "              data=(rating_3.assign(\n",
    "                  Company_Location=rating_3.Company_Location.where(rating_3.Company_Location.isin(top_6_Rating3_CL)))))"
   ]
  },
  {
   "cell_type": "code",
   "execution_count": 499,
   "metadata": {},
   "outputs": [
    {
     "data": {
      "text/plain": [
       "Index(['Soma', 'Bonnat', 'Fresco', 'Pralus', 'A. Morin', 'Arete', 'Guittard',\n",
       "       'Domori', 'Valrhona', 'Hotel Chocolat (Coppeneur)'],\n",
       "      dtype='object')"
      ]
     },
     "execution_count": 499,
     "metadata": {},
     "output_type": "execute_result"
    }
   ],
   "source": [
    "# 초콜릿을 많이 만드는 회사 top10\n",
    "\n",
    "top_10_company = cacao.Company.value_counts().index[:10]\n",
    "top_10_company"
   ]
  },
  {
   "cell_type": "code",
   "execution_count": 500,
   "metadata": {},
   "outputs": [
    {
     "data": {
      "text/plain": [
       "<AxesSubplot:xlabel='count', ylabel='Company'>"
      ]
     },
     "execution_count": 500,
     "metadata": {},
     "output_type": "execute_result"
    },
    {
     "data": {
      "image/png": "[encoded data removed]",
      "text/plain": [
       "<Figure size 720x576 with 1 Axes>"
      ]
     },
     "metadata": {
      "needs_background": "light"
     },
     "output_type": "display_data"
    }
   ],
   "source": [
    "# 초콜릿을 많이 만드는 회사 top10. soma가 가장 많다는 것을 알 수 있음\n",
    "\n",
    "import seaborn as sns\n",
    "\n",
    "fig, ax = plt.subplots(figsize=(10, 8))\n",
    "sns.countplot(y='Company',\n",
    "              data=(cacao.assign(\n",
    "                  Company=cacao.Company.where(cacao.Company.isin(top_10_company)))\n",
    "                   )\n",
    "             )"
   ]
  },
  {
   "cell_type": "code",
   "execution_count": 435,
   "metadata": {},
   "outputs": [
    {
     "data": {
      "text/plain": [
       "Index(['Soma', 'Bonnat', 'Fresco', 'Pralus', 'Domori', 'Arete', 'A. Morin',\n",
       "       'Guittard', 'Valrhona', 'Zotter'],\n",
       "      dtype='object')"
      ]
     },
     "execution_count": 435,
     "metadata": {},
     "output_type": "execute_result"
    }
   ],
   "source": [
    "# 평점 3이상(만족스러움)인 초콜릿바를 생산한 top10위 회사들\n",
    "top_10_Rating3_C = rating_3.Company.value_counts().index[:10]\n",
    "top_10_Rating3_C"
   ]
  },
  {
   "cell_type": "code",
   "execution_count": 438,
   "metadata": {},
   "outputs": [
    {
     "data": {
      "text/plain": [
       "<AxesSubplot:xlabel='count', ylabel='Company'>"
      ]
     },
     "execution_count": 438,
     "metadata": {},
     "output_type": "execute_result"
    },
    {
     "data": {
      "image/png": "[encoded data removed]",
      "text/plain": [
       "<Figure size 720x576 with 1 Axes>"
      ]
     },
     "metadata": {
      "needs_background": "light"
     },
     "output_type": "display_data"
    }
   ],
   "source": [
    "# 평점 3이상(만족스러움)인 초콜릿바를 생산한 top10위 회사들. 일부 회사가 바뀌었다.\n",
    "\n",
    "fig, ax = plt.subplots(figsize=(10, 8))\n",
    "sns.countplot(y='Company',\n",
    "              data=(rating_3.assign(\n",
    "                  Company=rating_3.Company.where(rating_3.Company.isin(top_10_Rating3_C)))))"
   ]
  },
  {
   "cell_type": "raw",
   "metadata": {},
   "source": [
    "4. 의미 해석 및 가치 도출\n",
    "\n",
    "4-1. 등급이 3점대 후반인 초콜릿바가 가장 많은 것을 알 수 있다.\n",
    "4-2. 초콜릿바의 등급이 정규분포가 아님을 알 수 있다.\n",
    "4-3. 카카오 함유가 70% 정도 되는 초콜릿바가 가장 많은 것을 알 수 있다.\n",
    "4-4. 연도별 초콜릿바의 가장 높은 등급은 5, 낮은 등급은 3.75이다. 연도가 지날수록 등급이 떨어지고 있다.\n",
    "4-5. 평점 3이상(만족스러움)인 초콜릿바를 생산한 top6위 나라와 모든 등급 초콜릿바를 많이 생산하는 top6 나라의 목록은 값이 미세하게 차이가 난다. 또한 top6에서 에콰도르가 오스트레일리아로 바뀐 것을 알 수 있다.\n",
    "4-6. 평점 3이상(만족스러움)인 초콜릿바를 생산한 top10위 회사들과 모든 등급의 초콜릿바를 생산한 top10위 회사들의 목록을 보면 일부 회사가 다른 것을 알 수 있다. 즉, 많은 종류의 초콜릿바를 만드는 회사가 높은 등급의 초콜릿바를 만드는 것은 아니다."
   ]
  }
 ],
 "metadata": {
  "kernelspec": {
   "display_name": "Python 3",
   "language": "python",
   "name": "python3"
  },
  "language_info": {
   "codemirror_mode": {
    "name": "ipython",
    "version": 3
   },
   "file_extension": ".py",
   "mimetype": "text/x-python",
   "name": "python",
   "nbconvert_exporter": "python",
   "pygments_lexer": "ipython3",
   "version": "3.8.5"
  }
 },
 "nbformat": 4,
 "nbformat_minor": 4
}
